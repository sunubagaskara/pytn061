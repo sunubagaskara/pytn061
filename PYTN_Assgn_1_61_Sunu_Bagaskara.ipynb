{
 "cells": [
  {
   "cell_type": "code",
   "execution_count": 4,
   "id": "018eac76-672b-4d80-a508-e098e7d74558",
   "metadata": {},
   "outputs": [],
   "source": [
    "import numpy as np\n",
    "import pandas as pd\n",
    "\n",
    "%matplotlib inline\n",
    "\n",
    "import matplotlib as mpl\n",
    "import matplotlib.pyplot as plt"
   ]
  },
  {
   "cell_type": "code",
   "execution_count": 5,
   "id": "d7c22518-a69e-45ad-9a13-78b412c15b18",
   "metadata": {},
   "outputs": [
    {
     "name": "stdout",
     "output_type": "stream",
     "text": [
      "Data read into a pandas dataframe!\n"
     ]
    }
   ],
   "source": [
    "df = pd.read_csv('london_crime_by_lsoa.csv')\n",
    "print ('Data read into a pandas dataframe!')"
   ]
  },
  {
   "cell_type": "code",
   "execution_count": 9,
   "id": "fa8d6dd6-3a38-46da-b823-df2113f886da",
   "metadata": {},
   "outputs": [
    {
     "data": {
      "text/html": [
       "<div>\n",
       "<style scoped>\n",
       "    .dataframe tbody tr th:only-of-type {\n",
       "        vertical-align: middle;\n",
       "    }\n",
       "\n",
       "    .dataframe tbody tr th {\n",
       "        vertical-align: top;\n",
       "    }\n",
       "\n",
       "    .dataframe thead th {\n",
       "        text-align: right;\n",
       "    }\n",
       "</style>\n",
       "<table border=\"1\" class=\"dataframe\">\n",
       "  <thead>\n",
       "    <tr style=\"text-align: right;\">\n",
       "      <th></th>\n",
       "      <th>lsoa_code</th>\n",
       "      <th>borough</th>\n",
       "      <th>major_category</th>\n",
       "      <th>minor_category</th>\n",
       "      <th>value</th>\n",
       "      <th>year</th>\n",
       "      <th>month</th>\n",
       "    </tr>\n",
       "  </thead>\n",
       "  <tbody>\n",
       "    <tr>\n",
       "      <th>0</th>\n",
       "      <td>E01001116</td>\n",
       "      <td>Croydon</td>\n",
       "      <td>Burglary</td>\n",
       "      <td>Burglary in Other Buildings</td>\n",
       "      <td>0</td>\n",
       "      <td>2016</td>\n",
       "      <td>11</td>\n",
       "    </tr>\n",
       "    <tr>\n",
       "      <th>1</th>\n",
       "      <td>E01001646</td>\n",
       "      <td>Greenwich</td>\n",
       "      <td>Violence Against the Person</td>\n",
       "      <td>Other violence</td>\n",
       "      <td>0</td>\n",
       "      <td>2016</td>\n",
       "      <td>11</td>\n",
       "    </tr>\n",
       "    <tr>\n",
       "      <th>2</th>\n",
       "      <td>E01000677</td>\n",
       "      <td>Bromley</td>\n",
       "      <td>Violence Against the Person</td>\n",
       "      <td>Other violence</td>\n",
       "      <td>0</td>\n",
       "      <td>2015</td>\n",
       "      <td>5</td>\n",
       "    </tr>\n",
       "    <tr>\n",
       "      <th>3</th>\n",
       "      <td>E01003774</td>\n",
       "      <td>Redbridge</td>\n",
       "      <td>Burglary</td>\n",
       "      <td>Burglary in Other Buildings</td>\n",
       "      <td>0</td>\n",
       "      <td>2016</td>\n",
       "      <td>3</td>\n",
       "    </tr>\n",
       "    <tr>\n",
       "      <th>4</th>\n",
       "      <td>E01004563</td>\n",
       "      <td>Wandsworth</td>\n",
       "      <td>Robbery</td>\n",
       "      <td>Personal Property</td>\n",
       "      <td>0</td>\n",
       "      <td>2008</td>\n",
       "      <td>6</td>\n",
       "    </tr>\n",
       "  </tbody>\n",
       "</table>\n",
       "</div>"
      ],
      "text/plain": [
       "   lsoa_code     borough               major_category  \\\n",
       "0  E01001116     Croydon                     Burglary   \n",
       "1  E01001646   Greenwich  Violence Against the Person   \n",
       "2  E01000677     Bromley  Violence Against the Person   \n",
       "3  E01003774   Redbridge                     Burglary   \n",
       "4  E01004563  Wandsworth                      Robbery   \n",
       "\n",
       "                minor_category  value  year  month  \n",
       "0  Burglary in Other Buildings      0  2016     11  \n",
       "1               Other violence      0  2016     11  \n",
       "2               Other violence      0  2015      5  \n",
       "3  Burglary in Other Buildings      0  2016      3  \n",
       "4            Personal Property      0  2008      6  "
      ]
     },
     "execution_count": 9,
     "metadata": {},
     "output_type": "execute_result"
    }
   ],
   "source": [
    "df.head()"
   ]
  },
  {
   "cell_type": "code",
   "execution_count": 7,
   "id": "66be6c88-8c56-4ceb-a4c7-4a1b09dc1f56",
   "metadata": {},
   "outputs": [
    {
     "data": {
      "text/html": [
       "<div>\n",
       "<style scoped>\n",
       "    .dataframe tbody tr th:only-of-type {\n",
       "        vertical-align: middle;\n",
       "    }\n",
       "\n",
       "    .dataframe tbody tr th {\n",
       "        vertical-align: top;\n",
       "    }\n",
       "\n",
       "    .dataframe thead th {\n",
       "        text-align: right;\n",
       "    }\n",
       "</style>\n",
       "<table border=\"1\" class=\"dataframe\">\n",
       "  <thead>\n",
       "    <tr style=\"text-align: right;\">\n",
       "      <th></th>\n",
       "      <th>lsoa_code</th>\n",
       "      <th>borough</th>\n",
       "      <th>major_category</th>\n",
       "      <th>minor_category</th>\n",
       "      <th>value</th>\n",
       "      <th>year</th>\n",
       "      <th>month</th>\n",
       "    </tr>\n",
       "  </thead>\n",
       "  <tbody>\n",
       "    <tr>\n",
       "      <th>13490599</th>\n",
       "      <td>E01000504</td>\n",
       "      <td>Brent</td>\n",
       "      <td>Criminal Damage</td>\n",
       "      <td>Criminal Damage To Dwelling</td>\n",
       "      <td>0</td>\n",
       "      <td>2015</td>\n",
       "      <td>2</td>\n",
       "    </tr>\n",
       "    <tr>\n",
       "      <th>13490600</th>\n",
       "      <td>E01002504</td>\n",
       "      <td>Hillingdon</td>\n",
       "      <td>Robbery</td>\n",
       "      <td>Personal Property</td>\n",
       "      <td>1</td>\n",
       "      <td>2015</td>\n",
       "      <td>6</td>\n",
       "    </tr>\n",
       "    <tr>\n",
       "      <th>13490601</th>\n",
       "      <td>E01004165</td>\n",
       "      <td>Sutton</td>\n",
       "      <td>Burglary</td>\n",
       "      <td>Burglary in a Dwelling</td>\n",
       "      <td>0</td>\n",
       "      <td>2011</td>\n",
       "      <td>2</td>\n",
       "    </tr>\n",
       "    <tr>\n",
       "      <th>13490602</th>\n",
       "      <td>E01001134</td>\n",
       "      <td>Croydon</td>\n",
       "      <td>Robbery</td>\n",
       "      <td>Business Property</td>\n",
       "      <td>0</td>\n",
       "      <td>2011</td>\n",
       "      <td>5</td>\n",
       "    </tr>\n",
       "    <tr>\n",
       "      <th>13490603</th>\n",
       "      <td>E01003413</td>\n",
       "      <td>Merton</td>\n",
       "      <td>Violence Against the Person</td>\n",
       "      <td>Wounding/GBH</td>\n",
       "      <td>0</td>\n",
       "      <td>2015</td>\n",
       "      <td>6</td>\n",
       "    </tr>\n",
       "  </tbody>\n",
       "</table>\n",
       "</div>"
      ],
      "text/plain": [
       "          lsoa_code     borough               major_category  \\\n",
       "13490599  E01000504       Brent              Criminal Damage   \n",
       "13490600  E01002504  Hillingdon                      Robbery   \n",
       "13490601  E01004165      Sutton                     Burglary   \n",
       "13490602  E01001134     Croydon                      Robbery   \n",
       "13490603  E01003413      Merton  Violence Against the Person   \n",
       "\n",
       "                       minor_category  value  year  month  \n",
       "13490599  Criminal Damage To Dwelling      0  2015      2  \n",
       "13490600            Personal Property      1  2015      6  \n",
       "13490601       Burglary in a Dwelling      0  2011      2  \n",
       "13490602            Business Property      0  2011      5  \n",
       "13490603                 Wounding/GBH      0  2015      6  "
      ]
     },
     "execution_count": 7,
     "metadata": {},
     "output_type": "execute_result"
    }
   ],
   "source": [
    "df.tail()"
   ]
  },
  {
   "cell_type": "code",
   "execution_count": 8,
   "id": "8268b91b-e2aa-4abd-a154-c97256ea5af5",
   "metadata": {},
   "outputs": [
    {
     "name": "stdout",
     "output_type": "stream",
     "text": [
      "<class 'pandas.core.frame.DataFrame'>\n",
      "RangeIndex: 13490604 entries, 0 to 13490603\n",
      "Data columns (total 7 columns):\n",
      " #   Column          Dtype \n",
      "---  ------          ----- \n",
      " 0   lsoa_code       object\n",
      " 1   borough         object\n",
      " 2   major_category  object\n",
      " 3   minor_category  object\n",
      " 4   value           int64 \n",
      " 5   year            int64 \n",
      " 6   month           int64 \n",
      "dtypes: int64(3), object(4)\n",
      "memory usage: 720.5+ MB\n"
     ]
    }
   ],
   "source": [
    "df.info()"
   ]
  },
  {
   "cell_type": "code",
   "execution_count": 10,
   "id": "b7367578-2c00-4e00-b480-477612b2e1aa",
   "metadata": {},
   "outputs": [
    {
     "data": {
      "text/plain": [
       "array(['lsoa_code', 'borough', 'major_category', 'minor_category',\n",
       "       'value', 'year', 'month'], dtype=object)"
      ]
     },
     "execution_count": 10,
     "metadata": {},
     "output_type": "execute_result"
    }
   ],
   "source": [
    "df.columns.values"
   ]
  },
  {
   "cell_type": "code",
   "execution_count": 11,
   "id": "155f6910-268e-4a98-b24f-b07d718d5cd6",
   "metadata": {},
   "outputs": [
    {
     "data": {
      "text/plain": [
       "array([       0,        1,        2, ..., 13490601, 13490602, 13490603],\n",
       "      dtype=int64)"
      ]
     },
     "execution_count": 11,
     "metadata": {},
     "output_type": "execute_result"
    }
   ],
   "source": [
    "df.index.values"
   ]
  },
  {
   "cell_type": "code",
   "execution_count": 12,
   "id": "13ea5ccc-e25b-4abc-8f14-8655cc5f2b44",
   "metadata": {},
   "outputs": [
    {
     "data": {
      "text/plain": [
       "(13490604, 7)"
      ]
     },
     "execution_count": 12,
     "metadata": {},
     "output_type": "execute_result"
    }
   ],
   "source": [
    "df.shape"
   ]
  },
  {
   "cell_type": "code",
   "execution_count": 20,
   "id": "59ad4f64-925c-4a16-80f8-32a035842de9",
   "metadata": {},
   "outputs": [],
   "source": [
    "criminal = df[df['value'] == 1]"
   ]
  },
  {
   "cell_type": "code",
   "execution_count": 13,
   "id": "b901dfe0-1947-43b7-82ee-1069e7b1446a",
   "metadata": {},
   "outputs": [
    {
     "data": {
      "text/html": [
       "<div>\n",
       "<style scoped>\n",
       "    .dataframe tbody tr th:only-of-type {\n",
       "        vertical-align: middle;\n",
       "    }\n",
       "\n",
       "    .dataframe tbody tr th {\n",
       "        vertical-align: top;\n",
       "    }\n",
       "\n",
       "    .dataframe thead th {\n",
       "        text-align: right;\n",
       "    }\n",
       "</style>\n",
       "<table border=\"1\" class=\"dataframe\">\n",
       "  <thead>\n",
       "    <tr style=\"text-align: right;\">\n",
       "      <th></th>\n",
       "      <th>value</th>\n",
       "      <th>year</th>\n",
       "      <th>month</th>\n",
       "    </tr>\n",
       "  </thead>\n",
       "  <tbody>\n",
       "    <tr>\n",
       "      <th>count</th>\n",
       "      <td>1.349060e+07</td>\n",
       "      <td>1.349060e+07</td>\n",
       "      <td>1.349060e+07</td>\n",
       "    </tr>\n",
       "    <tr>\n",
       "      <th>mean</th>\n",
       "      <td>4.779444e-01</td>\n",
       "      <td>2.012000e+03</td>\n",
       "      <td>6.500000e+00</td>\n",
       "    </tr>\n",
       "    <tr>\n",
       "      <th>std</th>\n",
       "      <td>1.771513e+00</td>\n",
       "      <td>2.581989e+00</td>\n",
       "      <td>3.452053e+00</td>\n",
       "    </tr>\n",
       "    <tr>\n",
       "      <th>min</th>\n",
       "      <td>0.000000e+00</td>\n",
       "      <td>2.008000e+03</td>\n",
       "      <td>1.000000e+00</td>\n",
       "    </tr>\n",
       "    <tr>\n",
       "      <th>25%</th>\n",
       "      <td>0.000000e+00</td>\n",
       "      <td>2.010000e+03</td>\n",
       "      <td>3.750000e+00</td>\n",
       "    </tr>\n",
       "    <tr>\n",
       "      <th>50%</th>\n",
       "      <td>0.000000e+00</td>\n",
       "      <td>2.012000e+03</td>\n",
       "      <td>6.500000e+00</td>\n",
       "    </tr>\n",
       "    <tr>\n",
       "      <th>75%</th>\n",
       "      <td>1.000000e+00</td>\n",
       "      <td>2.014000e+03</td>\n",
       "      <td>9.250000e+00</td>\n",
       "    </tr>\n",
       "    <tr>\n",
       "      <th>max</th>\n",
       "      <td>3.090000e+02</td>\n",
       "      <td>2.016000e+03</td>\n",
       "      <td>1.200000e+01</td>\n",
       "    </tr>\n",
       "  </tbody>\n",
       "</table>\n",
       "</div>"
      ],
      "text/plain": [
       "              value          year         month\n",
       "count  1.349060e+07  1.349060e+07  1.349060e+07\n",
       "mean   4.779444e-01  2.012000e+03  6.500000e+00\n",
       "std    1.771513e+00  2.581989e+00  3.452053e+00\n",
       "min    0.000000e+00  2.008000e+03  1.000000e+00\n",
       "25%    0.000000e+00  2.010000e+03  3.750000e+00\n",
       "50%    0.000000e+00  2.012000e+03  6.500000e+00\n",
       "75%    1.000000e+00  2.014000e+03  9.250000e+00\n",
       "max    3.090000e+02  2.016000e+03  1.200000e+01"
      ]
     },
     "execution_count": 13,
     "metadata": {},
     "output_type": "execute_result"
    }
   ],
   "source": [
    "df.describe()"
   ]
  },
  {
   "cell_type": "code",
   "execution_count": 15,
   "id": "e9aa9857-0392-4879-813f-93b360931421",
   "metadata": {},
   "outputs": [
    {
     "data": {
      "text/plain": [
       "borough           0\n",
       "major_category    0\n",
       "minor_category    0\n",
       "value             0\n",
       "year              0\n",
       "month             0\n",
       "dtype: int64"
      ]
     },
     "execution_count": 15,
     "metadata": {},
     "output_type": "execute_result"
    }
   ],
   "source": [
    "df.isnull().sum()"
   ]
  },
  {
   "cell_type": "code",
   "execution_count": 14,
   "id": "9ed45a22-b195-4978-80d1-027695ec34b0",
   "metadata": {},
   "outputs": [
    {
     "data": {
      "text/plain": [
       "0                              Burglary\n",
       "1           Violence Against the Person\n",
       "2           Violence Against the Person\n",
       "3                              Burglary\n",
       "4                               Robbery\n",
       "                       ...             \n",
       "13490599                Criminal Damage\n",
       "13490600                        Robbery\n",
       "13490601                       Burglary\n",
       "13490602                        Robbery\n",
       "13490603    Violence Against the Person\n",
       "Name: major_category, Length: 13490604, dtype: object"
      ]
     },
     "execution_count": 14,
     "metadata": {},
     "output_type": "execute_result"
    }
   ],
   "source": [
    "df['major_category']"
   ]
  },
  {
   "cell_type": "code",
   "execution_count": 22,
   "id": "5d790661-ea2a-4653-b615-5da98f5281dd",
   "metadata": {},
   "outputs": [
    {
     "data": {
      "text/plain": [
       "borough\n",
       "Croydon       False\n",
       "Greenwich     False\n",
       "Bromley       False\n",
       "Redbridge     False\n",
       "Wandsworth    False\n",
       "              ...  \n",
       "Brent         False\n",
       "Hillingdon    False\n",
       "Sutton        False\n",
       "Croydon       False\n",
       "Merton        False\n",
       "Name: major_category, Length: 13490604, dtype: bool"
      ]
     },
     "execution_count": 22,
     "metadata": {},
     "output_type": "execute_result"
    }
   ],
   "source": [
    "# memeriksa missing value\n",
    "df['major_category'].isnull()"
   ]
  },
  {
   "cell_type": "code",
   "execution_count": 15,
   "id": "7a1093d9-0d15-4a51-b7a9-256ad4a4f3fd",
   "metadata": {},
   "outputs": [
    {
     "data": {
      "text/plain": [
       "lsoa_code         0\n",
       "borough           0\n",
       "major_category    0\n",
       "minor_category    0\n",
       "value             0\n",
       "year              0\n",
       "month             0\n",
       "dtype: int64"
      ]
     },
     "execution_count": 15,
     "metadata": {},
     "output_type": "execute_result"
    }
   ],
   "source": [
    "df.isnull().sum()"
   ]
  },
  {
   "cell_type": "code",
   "execution_count": 31,
   "id": "8b24fbfd-c93e-4c03-9163-da3dd6a1e638",
   "metadata": {},
   "outputs": [
    {
     "data": {
      "text/plain": [
       "Theft and Handling             3966300\n",
       "Violence Against the Person    3171744\n",
       "Criminal Damage                2069172\n",
       "Drugs                          1179468\n",
       "Burglary                       1043604\n",
       "Robbery                         939384\n",
       "Other Notifiable Offences       776304\n",
       "Fraud or Forgery                236520\n",
       "Sexual Offences                 108108\n",
       "Name: major_category, dtype: int64"
      ]
     },
     "execution_count": 31,
     "metadata": {},
     "output_type": "execute_result"
    }
   ],
   "source": [
    "df['major_category'].value_counts()"
   ]
  },
  {
   "cell_type": "code",
   "execution_count": 30,
   "id": "c512aba2-1437-42b1-8691-60c2c4a96d85",
   "metadata": {},
   "outputs": [
    {
     "data": {
      "text/html": [
       "<div>\n",
       "<style scoped>\n",
       "    .dataframe tbody tr th:only-of-type {\n",
       "        vertical-align: middle;\n",
       "    }\n",
       "\n",
       "    .dataframe tbody tr th {\n",
       "        vertical-align: top;\n",
       "    }\n",
       "\n",
       "    .dataframe thead th {\n",
       "        text-align: right;\n",
       "    }\n",
       "</style>\n",
       "<table border=\"1\" class=\"dataframe\">\n",
       "  <thead>\n",
       "    <tr style=\"text-align: right;\">\n",
       "      <th></th>\n",
       "      <th>lsoa_code</th>\n",
       "      <th>borough</th>\n",
       "      <th>major_category</th>\n",
       "      <th>minor_category</th>\n",
       "      <th>value</th>\n",
       "      <th>year</th>\n",
       "      <th>month</th>\n",
       "    </tr>\n",
       "  </thead>\n",
       "  <tbody>\n",
       "    <tr>\n",
       "      <th>0</th>\n",
       "      <td>E01001116</td>\n",
       "      <td>Croydon</td>\n",
       "      <td>Burglary</td>\n",
       "      <td>Burglary in Other Buildings</td>\n",
       "      <td>0</td>\n",
       "      <td>2016</td>\n",
       "      <td>11</td>\n",
       "    </tr>\n",
       "    <tr>\n",
       "      <th>1</th>\n",
       "      <td>E01001646</td>\n",
       "      <td>Greenwich</td>\n",
       "      <td>Violence Against the Person</td>\n",
       "      <td>Other violence</td>\n",
       "      <td>0</td>\n",
       "      <td>2016</td>\n",
       "      <td>11</td>\n",
       "    </tr>\n",
       "    <tr>\n",
       "      <th>2</th>\n",
       "      <td>E01000677</td>\n",
       "      <td>Bromley</td>\n",
       "      <td>Violence Against the Person</td>\n",
       "      <td>Other violence</td>\n",
       "      <td>0</td>\n",
       "      <td>2015</td>\n",
       "      <td>5</td>\n",
       "    </tr>\n",
       "    <tr>\n",
       "      <th>3</th>\n",
       "      <td>E01003774</td>\n",
       "      <td>Redbridge</td>\n",
       "      <td>Burglary</td>\n",
       "      <td>Burglary in Other Buildings</td>\n",
       "      <td>0</td>\n",
       "      <td>2016</td>\n",
       "      <td>3</td>\n",
       "    </tr>\n",
       "    <tr>\n",
       "      <th>4</th>\n",
       "      <td>E01004563</td>\n",
       "      <td>Wandsworth</td>\n",
       "      <td>Robbery</td>\n",
       "      <td>Personal Property</td>\n",
       "      <td>0</td>\n",
       "      <td>2008</td>\n",
       "      <td>6</td>\n",
       "    </tr>\n",
       "  </tbody>\n",
       "</table>\n",
       "</div>"
      ],
      "text/plain": [
       "   lsoa_code     borough               major_category  \\\n",
       "0  E01001116     Croydon                     Burglary   \n",
       "1  E01001646   Greenwich  Violence Against the Person   \n",
       "2  E01000677     Bromley  Violence Against the Person   \n",
       "3  E01003774   Redbridge                     Burglary   \n",
       "4  E01004563  Wandsworth                      Robbery   \n",
       "\n",
       "                minor_category  value  year  month  \n",
       "0  Burglary in Other Buildings      0  2016     11  \n",
       "1               Other violence      0  2016     11  \n",
       "2               Other violence      0  2015      5  \n",
       "3  Burglary in Other Buildings      0  2016      3  \n",
       "4            Personal Property      0  2008      6  "
      ]
     },
     "execution_count": 30,
     "metadata": {},
     "output_type": "execute_result"
    }
   ],
   "source": [
    "df.head()"
   ]
  },
  {
   "cell_type": "code",
   "execution_count": 33,
   "id": "3cf49efc-bfd1-4b3e-b211-ae2f15b21843",
   "metadata": {},
   "outputs": [
    {
     "data": {
      "text/html": [
       "<div>\n",
       "<style scoped>\n",
       "    .dataframe tbody tr th:only-of-type {\n",
       "        vertical-align: middle;\n",
       "    }\n",
       "\n",
       "    .dataframe tbody tr th {\n",
       "        vertical-align: top;\n",
       "    }\n",
       "\n",
       "    .dataframe thead th {\n",
       "        text-align: right;\n",
       "    }\n",
       "</style>\n",
       "<table border=\"1\" class=\"dataframe\">\n",
       "  <thead>\n",
       "    <tr style=\"text-align: right;\">\n",
       "      <th></th>\n",
       "      <th>lsoa_code</th>\n",
       "      <th>borough</th>\n",
       "      <th>major_category</th>\n",
       "      <th>minor_category</th>\n",
       "      <th>value</th>\n",
       "      <th>year</th>\n",
       "      <th>month</th>\n",
       "    </tr>\n",
       "  </thead>\n",
       "  <tbody>\n",
       "    <tr>\n",
       "      <th>9</th>\n",
       "      <td>E01004177</td>\n",
       "      <td>Sutton</td>\n",
       "      <td>Theft and Handling</td>\n",
       "      <td>Theft/Taking of Pedal Cycle</td>\n",
       "      <td>1</td>\n",
       "      <td>2016</td>\n",
       "      <td>8</td>\n",
       "    </tr>\n",
       "    <tr>\n",
       "      <th>16</th>\n",
       "      <td>E01000086</td>\n",
       "      <td>Barking and Dagenham</td>\n",
       "      <td>Theft and Handling</td>\n",
       "      <td>Other Theft Person</td>\n",
       "      <td>1</td>\n",
       "      <td>2009</td>\n",
       "      <td>5</td>\n",
       "    </tr>\n",
       "    <tr>\n",
       "      <th>25</th>\n",
       "      <td>E01001794</td>\n",
       "      <td>Hackney</td>\n",
       "      <td>Violence Against the Person</td>\n",
       "      <td>Harassment</td>\n",
       "      <td>1</td>\n",
       "      <td>2013</td>\n",
       "      <td>2</td>\n",
       "    </tr>\n",
       "    <tr>\n",
       "      <th>32</th>\n",
       "      <td>E01000733</td>\n",
       "      <td>Bromley</td>\n",
       "      <td>Criminal Damage</td>\n",
       "      <td>Criminal Damage To Motor Vehicle</td>\n",
       "      <td>1</td>\n",
       "      <td>2016</td>\n",
       "      <td>4</td>\n",
       "    </tr>\n",
       "    <tr>\n",
       "      <th>43</th>\n",
       "      <td>E01001193</td>\n",
       "      <td>Croydon</td>\n",
       "      <td>Theft and Handling</td>\n",
       "      <td>Other Theft</td>\n",
       "      <td>1</td>\n",
       "      <td>2014</td>\n",
       "      <td>5</td>\n",
       "    </tr>\n",
       "    <tr>\n",
       "      <th>...</th>\n",
       "      <td>...</td>\n",
       "      <td>...</td>\n",
       "      <td>...</td>\n",
       "      <td>...</td>\n",
       "      <td>...</td>\n",
       "      <td>...</td>\n",
       "      <td>...</td>\n",
       "    </tr>\n",
       "    <tr>\n",
       "      <th>13490566</th>\n",
       "      <td>E01000738</td>\n",
       "      <td>Bromley</td>\n",
       "      <td>Burglary</td>\n",
       "      <td>Burglary in a Dwelling</td>\n",
       "      <td>1</td>\n",
       "      <td>2009</td>\n",
       "      <td>1</td>\n",
       "    </tr>\n",
       "    <tr>\n",
       "      <th>13490572</th>\n",
       "      <td>E01033735</td>\n",
       "      <td>Greenwich</td>\n",
       "      <td>Criminal Damage</td>\n",
       "      <td>Criminal Damage To Motor Vehicle</td>\n",
       "      <td>1</td>\n",
       "      <td>2013</td>\n",
       "      <td>8</td>\n",
       "    </tr>\n",
       "    <tr>\n",
       "      <th>13490584</th>\n",
       "      <td>E01003301</td>\n",
       "      <td>Lewisham</td>\n",
       "      <td>Violence Against the Person</td>\n",
       "      <td>Assault with Injury</td>\n",
       "      <td>1</td>\n",
       "      <td>2015</td>\n",
       "      <td>10</td>\n",
       "    </tr>\n",
       "    <tr>\n",
       "      <th>13490590</th>\n",
       "      <td>E01001679</td>\n",
       "      <td>Greenwich</td>\n",
       "      <td>Theft and Handling</td>\n",
       "      <td>Theft/Taking Of Motor Vehicle</td>\n",
       "      <td>1</td>\n",
       "      <td>2012</td>\n",
       "      <td>4</td>\n",
       "    </tr>\n",
       "    <tr>\n",
       "      <th>13490600</th>\n",
       "      <td>E01002504</td>\n",
       "      <td>Hillingdon</td>\n",
       "      <td>Robbery</td>\n",
       "      <td>Personal Property</td>\n",
       "      <td>1</td>\n",
       "      <td>2015</td>\n",
       "      <td>6</td>\n",
       "    </tr>\n",
       "  </tbody>\n",
       "</table>\n",
       "<p>2141789 rows × 7 columns</p>\n",
       "</div>"
      ],
      "text/plain": [
       "          lsoa_code               borough               major_category  \\\n",
       "9         E01004177                Sutton           Theft and Handling   \n",
       "16        E01000086  Barking and Dagenham           Theft and Handling   \n",
       "25        E01001794               Hackney  Violence Against the Person   \n",
       "32        E01000733               Bromley              Criminal Damage   \n",
       "43        E01001193               Croydon           Theft and Handling   \n",
       "...             ...                   ...                          ...   \n",
       "13490566  E01000738               Bromley                     Burglary   \n",
       "13490572  E01033735             Greenwich              Criminal Damage   \n",
       "13490584  E01003301              Lewisham  Violence Against the Person   \n",
       "13490590  E01001679             Greenwich           Theft and Handling   \n",
       "13490600  E01002504            Hillingdon                      Robbery   \n",
       "\n",
       "                            minor_category  value  year  month  \n",
       "9              Theft/Taking of Pedal Cycle      1  2016      8  \n",
       "16                      Other Theft Person      1  2009      5  \n",
       "25                              Harassment      1  2013      2  \n",
       "32        Criminal Damage To Motor Vehicle      1  2016      4  \n",
       "43                             Other Theft      1  2014      5  \n",
       "...                                    ...    ...   ...    ...  \n",
       "13490566            Burglary in a Dwelling      1  2009      1  \n",
       "13490572  Criminal Damage To Motor Vehicle      1  2013      8  \n",
       "13490584               Assault with Injury      1  2015     10  \n",
       "13490590     Theft/Taking Of Motor Vehicle      1  2012      4  \n",
       "13490600                 Personal Property      1  2015      6  \n",
       "\n",
       "[2141789 rows x 7 columns]"
      ]
     },
     "execution_count": 33,
     "metadata": {},
     "output_type": "execute_result"
    }
   ],
   "source": [
    "criminal"
   ]
  },
  {
   "cell_type": "code",
   "execution_count": 21,
   "id": "90ef0777-22e9-42f2-a927-c0548ca03bf6",
   "metadata": {},
   "outputs": [
    {
     "data": {
      "text/plain": [
       "Theft and Handling             662379\n",
       "Violence Against the Person    544226\n",
       "Criminal Damage                353769\n",
       "Burglary                       263035\n",
       "Drugs                          138878\n",
       "Robbery                        110785\n",
       "Other Notifiable Offences       65925\n",
       "Fraud or Forgery                 1835\n",
       "Sexual Offences                   957\n",
       "Name: major_category, dtype: int64"
      ]
     },
     "execution_count": 21,
     "metadata": {},
     "output_type": "execute_result"
    }
   ],
   "source": [
    "# menghitung jumlah kasus pada 'major_category'\n",
    "criminal['major_category'].value_counts()"
   ]
  },
  {
   "cell_type": "code",
   "execution_count": 67,
   "id": "426c3899-1021-4c17-9d0a-a30e98d75d52",
   "metadata": {},
   "outputs": [
    {
     "data": {
      "text/plain": [
       "<bound method Series.unstack of borough               major_category             \n",
       "Barking and Dagenham  Burglary                       2013\n",
       "                      Criminal Damage                2014\n",
       "                      Drugs                          2009\n",
       "                      Fraud or Forgery               2015\n",
       "                      Other Notifiable Offences      2013\n",
       "                                                     ... \n",
       "Westminster           Other Notifiable Offences      2009\n",
       "                      Robbery                        2015\n",
       "                      Sexual Offences                2012\n",
       "                      Theft and Handling             2012\n",
       "                      Violence Against the Person    2009\n",
       "Name: year, Length: 295, dtype: int64>"
      ]
     },
     "execution_count": 67,
     "metadata": {},
     "output_type": "execute_result"
    }
   ],
   "source": [
    "df.reset_index().groupby(['borough','major_category'])['year'].aggregate('first').unstack"
   ]
  },
  {
   "cell_type": "code",
   "execution_count": 70,
   "id": "e442762d-e1a6-4e08-97be-9356dedd5551",
   "metadata": {},
   "outputs": [
    {
     "data": {
      "text/html": [
       "<div>\n",
       "<style scoped>\n",
       "    .dataframe tbody tr th:only-of-type {\n",
       "        vertical-align: middle;\n",
       "    }\n",
       "\n",
       "    .dataframe tbody tr th {\n",
       "        vertical-align: top;\n",
       "    }\n",
       "\n",
       "    .dataframe thead th {\n",
       "        text-align: right;\n",
       "    }\n",
       "</style>\n",
       "<table border=\"1\" class=\"dataframe\">\n",
       "  <thead>\n",
       "    <tr style=\"text-align: right;\">\n",
       "      <th></th>\n",
       "      <th>lsoa_code</th>\n",
       "      <th>borough</th>\n",
       "      <th>major_category</th>\n",
       "      <th>minor_category</th>\n",
       "      <th>value</th>\n",
       "      <th>year</th>\n",
       "      <th>month</th>\n",
       "    </tr>\n",
       "  </thead>\n",
       "  <tbody>\n",
       "    <tr>\n",
       "      <th>9</th>\n",
       "      <td>E01004177</td>\n",
       "      <td>Sutton</td>\n",
       "      <td>Theft and Handling</td>\n",
       "      <td>Theft/Taking of Pedal Cycle</td>\n",
       "      <td>1</td>\n",
       "      <td>2016</td>\n",
       "      <td>8</td>\n",
       "    </tr>\n",
       "    <tr>\n",
       "      <th>16</th>\n",
       "      <td>E01000086</td>\n",
       "      <td>Barking and Dagenham</td>\n",
       "      <td>Theft and Handling</td>\n",
       "      <td>Other Theft Person</td>\n",
       "      <td>1</td>\n",
       "      <td>2009</td>\n",
       "      <td>5</td>\n",
       "    </tr>\n",
       "    <tr>\n",
       "      <th>25</th>\n",
       "      <td>E01001794</td>\n",
       "      <td>Hackney</td>\n",
       "      <td>Violence Against the Person</td>\n",
       "      <td>Harassment</td>\n",
       "      <td>1</td>\n",
       "      <td>2013</td>\n",
       "      <td>2</td>\n",
       "    </tr>\n",
       "    <tr>\n",
       "      <th>32</th>\n",
       "      <td>E01000733</td>\n",
       "      <td>Bromley</td>\n",
       "      <td>Criminal Damage</td>\n",
       "      <td>Criminal Damage To Motor Vehicle</td>\n",
       "      <td>1</td>\n",
       "      <td>2016</td>\n",
       "      <td>4</td>\n",
       "    </tr>\n",
       "    <tr>\n",
       "      <th>43</th>\n",
       "      <td>E01001193</td>\n",
       "      <td>Croydon</td>\n",
       "      <td>Theft and Handling</td>\n",
       "      <td>Other Theft</td>\n",
       "      <td>1</td>\n",
       "      <td>2014</td>\n",
       "      <td>5</td>\n",
       "    </tr>\n",
       "    <tr>\n",
       "      <th>...</th>\n",
       "      <td>...</td>\n",
       "      <td>...</td>\n",
       "      <td>...</td>\n",
       "      <td>...</td>\n",
       "      <td>...</td>\n",
       "      <td>...</td>\n",
       "      <td>...</td>\n",
       "    </tr>\n",
       "    <tr>\n",
       "      <th>13490566</th>\n",
       "      <td>E01000738</td>\n",
       "      <td>Bromley</td>\n",
       "      <td>Burglary</td>\n",
       "      <td>Burglary in a Dwelling</td>\n",
       "      <td>1</td>\n",
       "      <td>2009</td>\n",
       "      <td>1</td>\n",
       "    </tr>\n",
       "    <tr>\n",
       "      <th>13490572</th>\n",
       "      <td>E01033735</td>\n",
       "      <td>Greenwich</td>\n",
       "      <td>Criminal Damage</td>\n",
       "      <td>Criminal Damage To Motor Vehicle</td>\n",
       "      <td>1</td>\n",
       "      <td>2013</td>\n",
       "      <td>8</td>\n",
       "    </tr>\n",
       "    <tr>\n",
       "      <th>13490584</th>\n",
       "      <td>E01003301</td>\n",
       "      <td>Lewisham</td>\n",
       "      <td>Violence Against the Person</td>\n",
       "      <td>Assault with Injury</td>\n",
       "      <td>1</td>\n",
       "      <td>2015</td>\n",
       "      <td>10</td>\n",
       "    </tr>\n",
       "    <tr>\n",
       "      <th>13490590</th>\n",
       "      <td>E01001679</td>\n",
       "      <td>Greenwich</td>\n",
       "      <td>Theft and Handling</td>\n",
       "      <td>Theft/Taking Of Motor Vehicle</td>\n",
       "      <td>1</td>\n",
       "      <td>2012</td>\n",
       "      <td>4</td>\n",
       "    </tr>\n",
       "    <tr>\n",
       "      <th>13490600</th>\n",
       "      <td>E01002504</td>\n",
       "      <td>Hillingdon</td>\n",
       "      <td>Robbery</td>\n",
       "      <td>Personal Property</td>\n",
       "      <td>1</td>\n",
       "      <td>2015</td>\n",
       "      <td>6</td>\n",
       "    </tr>\n",
       "  </tbody>\n",
       "</table>\n",
       "<p>2141789 rows × 7 columns</p>\n",
       "</div>"
      ],
      "text/plain": [
       "          lsoa_code               borough               major_category  \\\n",
       "9         E01004177                Sutton           Theft and Handling   \n",
       "16        E01000086  Barking and Dagenham           Theft and Handling   \n",
       "25        E01001794               Hackney  Violence Against the Person   \n",
       "32        E01000733               Bromley              Criminal Damage   \n",
       "43        E01001193               Croydon           Theft and Handling   \n",
       "...             ...                   ...                          ...   \n",
       "13490566  E01000738               Bromley                     Burglary   \n",
       "13490572  E01033735             Greenwich              Criminal Damage   \n",
       "13490584  E01003301              Lewisham  Violence Against the Person   \n",
       "13490590  E01001679             Greenwich           Theft and Handling   \n",
       "13490600  E01002504            Hillingdon                      Robbery   \n",
       "\n",
       "                            minor_category  value  year  month  \n",
       "9              Theft/Taking of Pedal Cycle      1  2016      8  \n",
       "16                      Other Theft Person      1  2009      5  \n",
       "25                              Harassment      1  2013      2  \n",
       "32        Criminal Damage To Motor Vehicle      1  2016      4  \n",
       "43                             Other Theft      1  2014      5  \n",
       "...                                    ...    ...   ...    ...  \n",
       "13490566            Burglary in a Dwelling      1  2009      1  \n",
       "13490572  Criminal Damage To Motor Vehicle      1  2013      8  \n",
       "13490584               Assault with Injury      1  2015     10  \n",
       "13490590     Theft/Taking Of Motor Vehicle      1  2012      4  \n",
       "13490600                 Personal Property      1  2015      6  \n",
       "\n",
       "[2141789 rows x 7 columns]"
      ]
     },
     "execution_count": 70,
     "metadata": {},
     "output_type": "execute_result"
    }
   ],
   "source": [
    "criminal"
   ]
  },
  {
   "cell_type": "code",
   "execution_count": 23,
   "id": "2a0033ba-8b05-4d5d-82c7-f394cc6c71c6",
   "metadata": {},
   "outputs": [],
   "source": [
    "# memfilter kasus Drugs untuk dianalisis lebih lanjut dalam assignment ini\n",
    "drugs = criminal[criminal[\"major_category\"].isin([\"Drugs\"])]"
   ]
  },
  {
   "cell_type": "code",
   "execution_count": 25,
   "id": "cdfe4c32-797a-4ca2-bda3-2235bbc0c0cb",
   "metadata": {},
   "outputs": [
    {
     "data": {
      "text/html": [
       "<div>\n",
       "<style scoped>\n",
       "    .dataframe tbody tr th:only-of-type {\n",
       "        vertical-align: middle;\n",
       "    }\n",
       "\n",
       "    .dataframe tbody tr th {\n",
       "        vertical-align: top;\n",
       "    }\n",
       "\n",
       "    .dataframe thead th {\n",
       "        text-align: right;\n",
       "    }\n",
       "</style>\n",
       "<table border=\"1\" class=\"dataframe\">\n",
       "  <thead>\n",
       "    <tr style=\"text-align: right;\">\n",
       "      <th></th>\n",
       "      <th>lsoa_code</th>\n",
       "      <th>borough</th>\n",
       "      <th>major_category</th>\n",
       "      <th>minor_category</th>\n",
       "      <th>value</th>\n",
       "      <th>year</th>\n",
       "      <th>month</th>\n",
       "    </tr>\n",
       "  </thead>\n",
       "  <tbody>\n",
       "    <tr>\n",
       "      <th>211</th>\n",
       "      <td>E01003297</td>\n",
       "      <td>Lewisham</td>\n",
       "      <td>Drugs</td>\n",
       "      <td>Possession Of Drugs</td>\n",
       "      <td>1</td>\n",
       "      <td>2008</td>\n",
       "      <td>12</td>\n",
       "    </tr>\n",
       "    <tr>\n",
       "      <th>212</th>\n",
       "      <td>E01002836</td>\n",
       "      <td>Kensington and Chelsea</td>\n",
       "      <td>Drugs</td>\n",
       "      <td>Possession Of Drugs</td>\n",
       "      <td>1</td>\n",
       "      <td>2009</td>\n",
       "      <td>1</td>\n",
       "    </tr>\n",
       "    <tr>\n",
       "      <th>258</th>\n",
       "      <td>E01004642</td>\n",
       "      <td>Wandsworth</td>\n",
       "      <td>Drugs</td>\n",
       "      <td>Possession Of Drugs</td>\n",
       "      <td>1</td>\n",
       "      <td>2008</td>\n",
       "      <td>6</td>\n",
       "    </tr>\n",
       "    <tr>\n",
       "      <th>260</th>\n",
       "      <td>E01001902</td>\n",
       "      <td>Hammersmith and Fulham</td>\n",
       "      <td>Drugs</td>\n",
       "      <td>Possession Of Drugs</td>\n",
       "      <td>1</td>\n",
       "      <td>2016</td>\n",
       "      <td>2</td>\n",
       "    </tr>\n",
       "    <tr>\n",
       "      <th>440</th>\n",
       "      <td>E01000568</td>\n",
       "      <td>Brent</td>\n",
       "      <td>Drugs</td>\n",
       "      <td>Possession Of Drugs</td>\n",
       "      <td>1</td>\n",
       "      <td>2011</td>\n",
       "      <td>7</td>\n",
       "    </tr>\n",
       "    <tr>\n",
       "      <th>...</th>\n",
       "      <td>...</td>\n",
       "      <td>...</td>\n",
       "      <td>...</td>\n",
       "      <td>...</td>\n",
       "      <td>...</td>\n",
       "      <td>...</td>\n",
       "      <td>...</td>\n",
       "    </tr>\n",
       "    <tr>\n",
       "      <th>13490256</th>\n",
       "      <td>E01004325</td>\n",
       "      <td>Tower Hamlets</td>\n",
       "      <td>Drugs</td>\n",
       "      <td>Drug Trafficking</td>\n",
       "      <td>1</td>\n",
       "      <td>2011</td>\n",
       "      <td>1</td>\n",
       "    </tr>\n",
       "    <tr>\n",
       "      <th>13490264</th>\n",
       "      <td>E01000520</td>\n",
       "      <td>Brent</td>\n",
       "      <td>Drugs</td>\n",
       "      <td>Possession Of Drugs</td>\n",
       "      <td>1</td>\n",
       "      <td>2015</td>\n",
       "      <td>5</td>\n",
       "    </tr>\n",
       "    <tr>\n",
       "      <th>13490358</th>\n",
       "      <td>E01000084</td>\n",
       "      <td>Barking and Dagenham</td>\n",
       "      <td>Drugs</td>\n",
       "      <td>Possession Of Drugs</td>\n",
       "      <td>1</td>\n",
       "      <td>2016</td>\n",
       "      <td>4</td>\n",
       "    </tr>\n",
       "    <tr>\n",
       "      <th>13490464</th>\n",
       "      <td>E01003477</td>\n",
       "      <td>Merton</td>\n",
       "      <td>Drugs</td>\n",
       "      <td>Possession Of Drugs</td>\n",
       "      <td>1</td>\n",
       "      <td>2012</td>\n",
       "      <td>1</td>\n",
       "    </tr>\n",
       "    <tr>\n",
       "      <th>13490482</th>\n",
       "      <td>E01001112</td>\n",
       "      <td>Croydon</td>\n",
       "      <td>Drugs</td>\n",
       "      <td>Possession Of Drugs</td>\n",
       "      <td>1</td>\n",
       "      <td>2013</td>\n",
       "      <td>12</td>\n",
       "    </tr>\n",
       "  </tbody>\n",
       "</table>\n",
       "<p>138878 rows × 7 columns</p>\n",
       "</div>"
      ],
      "text/plain": [
       "          lsoa_code                 borough major_category  \\\n",
       "211       E01003297                Lewisham          Drugs   \n",
       "212       E01002836  Kensington and Chelsea          Drugs   \n",
       "258       E01004642              Wandsworth          Drugs   \n",
       "260       E01001902  Hammersmith and Fulham          Drugs   \n",
       "440       E01000568                   Brent          Drugs   \n",
       "...             ...                     ...            ...   \n",
       "13490256  E01004325           Tower Hamlets          Drugs   \n",
       "13490264  E01000520                   Brent          Drugs   \n",
       "13490358  E01000084    Barking and Dagenham          Drugs   \n",
       "13490464  E01003477                  Merton          Drugs   \n",
       "13490482  E01001112                 Croydon          Drugs   \n",
       "\n",
       "               minor_category  value  year  month  \n",
       "211       Possession Of Drugs      1  2008     12  \n",
       "212       Possession Of Drugs      1  2009      1  \n",
       "258       Possession Of Drugs      1  2008      6  \n",
       "260       Possession Of Drugs      1  2016      2  \n",
       "440       Possession Of Drugs      1  2011      7  \n",
       "...                       ...    ...   ...    ...  \n",
       "13490256     Drug Trafficking      1  2011      1  \n",
       "13490264  Possession Of Drugs      1  2015      5  \n",
       "13490358  Possession Of Drugs      1  2016      4  \n",
       "13490464  Possession Of Drugs      1  2012      1  \n",
       "13490482  Possession Of Drugs      1  2013     12  \n",
       "\n",
       "[138878 rows x 7 columns]"
      ]
     },
     "execution_count": 25,
     "metadata": {},
     "output_type": "execute_result"
    }
   ],
   "source": [
    "drugs"
   ]
  },
  {
   "cell_type": "code",
   "execution_count": 28,
   "id": "b47d651f-dcde-4ba5-b4b6-5b00b33f6cbb",
   "metadata": {},
   "outputs": [],
   "source": [
    "# pengelompokan kasus drugs berdasarkan borough\n",
    "drugs_borough = df.groupby('borough')"
   ]
  },
  {
   "cell_type": "code",
   "execution_count": 29,
   "id": "e0640e10-93c3-41e7-b90e-e06c6f0f13cc",
   "metadata": {},
   "outputs": [],
   "source": [
    "drugs_crime = df.groupby([\"borough\",\"year\"])[\"value\"].sum().reset_index()"
   ]
  },
  {
   "cell_type": "code",
   "execution_count": 30,
   "id": "08e67e32-a1f4-456c-89ca-8194d4e681d6",
   "metadata": {},
   "outputs": [],
   "source": [
    "# mengubah data tahun untuk menjadi data kolom\n",
    "drugs_ = drugs_crime.reset_index().pivot(columns='year', index='borough', values='value')"
   ]
  },
  {
   "cell_type": "code",
   "execution_count": 69,
   "id": "5c52f7c6-3025-41d9-8edd-29f6baa3dc2a",
   "metadata": {},
   "outputs": [],
   "source": [
    "# menjumlahkan kasus drugs di setiap tahun\n",
    "drugs_['Total'] = drugs_.sum(axis=1)"
   ]
  },
  {
   "cell_type": "code",
   "execution_count": 70,
   "id": "4040b1e4-2aeb-4f50-9f0c-92b2e717ada8",
   "metadata": {},
   "outputs": [],
   "source": [
    "# sorting jumlah kasus drugs secara descending\n",
    "drugs_.sort_values(by='Total', ascending=False, axis=0, inplace=True)"
   ]
  },
  {
   "cell_type": "code",
   "execution_count": 71,
   "id": "7d40f92d-95f3-4a1d-b372-20769602d34a",
   "metadata": {},
   "outputs": [],
   "source": [
    "drugs_top5 = drugs_.head(5)"
   ]
  },
  {
   "cell_type": "code",
   "execution_count": 72,
   "id": "b5b31469-81fd-4ccf-8c6b-e979b7e30fe1",
   "metadata": {},
   "outputs": [
    {
     "data": {
      "text/html": [
       "<div>\n",
       "<style scoped>\n",
       "    .dataframe tbody tr th:only-of-type {\n",
       "        vertical-align: middle;\n",
       "    }\n",
       "\n",
       "    .dataframe tbody tr th {\n",
       "        vertical-align: top;\n",
       "    }\n",
       "\n",
       "    .dataframe thead th {\n",
       "        text-align: right;\n",
       "    }\n",
       "</style>\n",
       "<table border=\"1\" class=\"dataframe\">\n",
       "  <thead>\n",
       "    <tr style=\"text-align: right;\">\n",
       "      <th>year</th>\n",
       "      <th>2008</th>\n",
       "      <th>2009</th>\n",
       "      <th>2010</th>\n",
       "      <th>2011</th>\n",
       "      <th>2012</th>\n",
       "      <th>2013</th>\n",
       "      <th>2014</th>\n",
       "      <th>2015</th>\n",
       "      <th>2016</th>\n",
       "      <th>Total</th>\n",
       "    </tr>\n",
       "    <tr>\n",
       "      <th>borough</th>\n",
       "      <th></th>\n",
       "      <th></th>\n",
       "      <th></th>\n",
       "      <th></th>\n",
       "      <th></th>\n",
       "      <th></th>\n",
       "      <th></th>\n",
       "      <th></th>\n",
       "      <th></th>\n",
       "      <th></th>\n",
       "    </tr>\n",
       "  </thead>\n",
       "  <tbody>\n",
       "    <tr>\n",
       "      <th>Westminster</th>\n",
       "      <td>47846</td>\n",
       "      <td>48456</td>\n",
       "      <td>48116</td>\n",
       "      <td>54243</td>\n",
       "      <td>59226</td>\n",
       "      <td>53852</td>\n",
       "      <td>47564</td>\n",
       "      <td>47395</td>\n",
       "      <td>48330</td>\n",
       "      <td>910056</td>\n",
       "    </tr>\n",
       "    <tr>\n",
       "      <th>Lambeth</th>\n",
       "      <td>31717</td>\n",
       "      <td>31225</td>\n",
       "      <td>31671</td>\n",
       "      <td>33224</td>\n",
       "      <td>33473</td>\n",
       "      <td>31868</td>\n",
       "      <td>31765</td>\n",
       "      <td>33164</td>\n",
       "      <td>34071</td>\n",
       "      <td>584356</td>\n",
       "    </tr>\n",
       "    <tr>\n",
       "      <th>Southwark</th>\n",
       "      <td>33470</td>\n",
       "      <td>30623</td>\n",
       "      <td>31320</td>\n",
       "      <td>30723</td>\n",
       "      <td>30737</td>\n",
       "      <td>31128</td>\n",
       "      <td>28912</td>\n",
       "      <td>30260</td>\n",
       "      <td>31636</td>\n",
       "      <td>557618</td>\n",
       "    </tr>\n",
       "    <tr>\n",
       "      <th>Camden</th>\n",
       "      <td>32010</td>\n",
       "      <td>31612</td>\n",
       "      <td>31804</td>\n",
       "      <td>33956</td>\n",
       "      <td>31472</td>\n",
       "      <td>28435</td>\n",
       "      <td>27198</td>\n",
       "      <td>29477</td>\n",
       "      <td>29183</td>\n",
       "      <td>550294</td>\n",
       "    </tr>\n",
       "    <tr>\n",
       "      <th>Newham</th>\n",
       "      <td>29752</td>\n",
       "      <td>28610</td>\n",
       "      <td>30728</td>\n",
       "      <td>27978</td>\n",
       "      <td>30067</td>\n",
       "      <td>27577</td>\n",
       "      <td>28005</td>\n",
       "      <td>29217</td>\n",
       "      <td>30090</td>\n",
       "      <td>524048</td>\n",
       "    </tr>\n",
       "  </tbody>\n",
       "</table>\n",
       "</div>"
      ],
      "text/plain": [
       "year          2008   2009   2010   2011   2012   2013   2014   2015   2016  \\\n",
       "borough                                                                      \n",
       "Westminster  47846  48456  48116  54243  59226  53852  47564  47395  48330   \n",
       "Lambeth      31717  31225  31671  33224  33473  31868  31765  33164  34071   \n",
       "Southwark    33470  30623  31320  30723  30737  31128  28912  30260  31636   \n",
       "Camden       32010  31612  31804  33956  31472  28435  27198  29477  29183   \n",
       "Newham       29752  28610  30728  27978  30067  27577  28005  29217  30090   \n",
       "\n",
       "year          Total  \n",
       "borough              \n",
       "Westminster  910056  \n",
       "Lambeth      584356  \n",
       "Southwark    557618  \n",
       "Camden       550294  \n",
       "Newham       524048  "
      ]
     },
     "execution_count": 72,
     "metadata": {},
     "output_type": "execute_result"
    }
   ],
   "source": [
    "drugs_top5"
   ]
  },
  {
   "cell_type": "code",
   "execution_count": 74,
   "id": "8a574a6c-035a-451e-b1bf-09ac17aa459b",
   "metadata": {},
   "outputs": [
    {
     "data": {
      "text/html": [
       "<div>\n",
       "<style scoped>\n",
       "    .dataframe tbody tr th:only-of-type {\n",
       "        vertical-align: middle;\n",
       "    }\n",
       "\n",
       "    .dataframe tbody tr th {\n",
       "        vertical-align: top;\n",
       "    }\n",
       "\n",
       "    .dataframe thead th {\n",
       "        text-align: right;\n",
       "    }\n",
       "</style>\n",
       "<table border=\"1\" class=\"dataframe\">\n",
       "  <thead>\n",
       "    <tr style=\"text-align: right;\">\n",
       "      <th>borough</th>\n",
       "      <th>Westminster</th>\n",
       "      <th>Lambeth</th>\n",
       "      <th>Southwark</th>\n",
       "      <th>Camden</th>\n",
       "      <th>Newham</th>\n",
       "    </tr>\n",
       "    <tr>\n",
       "      <th>year</th>\n",
       "      <th></th>\n",
       "      <th></th>\n",
       "      <th></th>\n",
       "      <th></th>\n",
       "      <th></th>\n",
       "    </tr>\n",
       "  </thead>\n",
       "  <tbody>\n",
       "    <tr>\n",
       "      <th>2008</th>\n",
       "      <td>47846</td>\n",
       "      <td>31717</td>\n",
       "      <td>33470</td>\n",
       "      <td>32010</td>\n",
       "      <td>29752</td>\n",
       "    </tr>\n",
       "    <tr>\n",
       "      <th>2009</th>\n",
       "      <td>48456</td>\n",
       "      <td>31225</td>\n",
       "      <td>30623</td>\n",
       "      <td>31612</td>\n",
       "      <td>28610</td>\n",
       "    </tr>\n",
       "    <tr>\n",
       "      <th>2010</th>\n",
       "      <td>48116</td>\n",
       "      <td>31671</td>\n",
       "      <td>31320</td>\n",
       "      <td>31804</td>\n",
       "      <td>30728</td>\n",
       "    </tr>\n",
       "    <tr>\n",
       "      <th>2011</th>\n",
       "      <td>54243</td>\n",
       "      <td>33224</td>\n",
       "      <td>30723</td>\n",
       "      <td>33956</td>\n",
       "      <td>27978</td>\n",
       "    </tr>\n",
       "    <tr>\n",
       "      <th>2012</th>\n",
       "      <td>59226</td>\n",
       "      <td>33473</td>\n",
       "      <td>30737</td>\n",
       "      <td>31472</td>\n",
       "      <td>30067</td>\n",
       "    </tr>\n",
       "    <tr>\n",
       "      <th>2013</th>\n",
       "      <td>53852</td>\n",
       "      <td>31868</td>\n",
       "      <td>31128</td>\n",
       "      <td>28435</td>\n",
       "      <td>27577</td>\n",
       "    </tr>\n",
       "    <tr>\n",
       "      <th>2014</th>\n",
       "      <td>47564</td>\n",
       "      <td>31765</td>\n",
       "      <td>28912</td>\n",
       "      <td>27198</td>\n",
       "      <td>28005</td>\n",
       "    </tr>\n",
       "    <tr>\n",
       "      <th>2015</th>\n",
       "      <td>47395</td>\n",
       "      <td>33164</td>\n",
       "      <td>30260</td>\n",
       "      <td>29477</td>\n",
       "      <td>29217</td>\n",
       "    </tr>\n",
       "    <tr>\n",
       "      <th>2016</th>\n",
       "      <td>48330</td>\n",
       "      <td>34071</td>\n",
       "      <td>31636</td>\n",
       "      <td>29183</td>\n",
       "      <td>30090</td>\n",
       "    </tr>\n",
       "    <tr>\n",
       "      <th>Total</th>\n",
       "      <td>910056</td>\n",
       "      <td>584356</td>\n",
       "      <td>557618</td>\n",
       "      <td>550294</td>\n",
       "      <td>524048</td>\n",
       "    </tr>\n",
       "  </tbody>\n",
       "</table>\n",
       "</div>"
      ],
      "text/plain": [
       "borough  Westminster  Lambeth  Southwark  Camden  Newham\n",
       "year                                                    \n",
       "2008           47846    31717      33470   32010   29752\n",
       "2009           48456    31225      30623   31612   28610\n",
       "2010           48116    31671      31320   31804   30728\n",
       "2011           54243    33224      30723   33956   27978\n",
       "2012           59226    33473      30737   31472   30067\n",
       "2013           53852    31868      31128   28435   27577\n",
       "2014           47564    31765      28912   27198   28005\n",
       "2015           47395    33164      30260   29477   29217\n",
       "2016           48330    34071      31636   29183   30090\n",
       "Total         910056   584356     557618  550294  524048"
      ]
     },
     "execution_count": 74,
     "metadata": {},
     "output_type": "execute_result"
    }
   ],
   "source": [
    "# transpose data frame\n",
    "drugs_top5t = drugs_top5.T\n",
    "drugs_top5t"
   ]
  },
  {
   "cell_type": "code",
   "execution_count": 75,
   "id": "4c2fa17b-e64b-49d0-9c38-2b1e3074db0e",
   "metadata": {},
   "outputs": [
    {
     "data": {
      "text/html": [
       "<div>\n",
       "<style scoped>\n",
       "    .dataframe tbody tr th:only-of-type {\n",
       "        vertical-align: middle;\n",
       "    }\n",
       "\n",
       "    .dataframe tbody tr th {\n",
       "        vertical-align: top;\n",
       "    }\n",
       "\n",
       "    .dataframe thead th {\n",
       "        text-align: right;\n",
       "    }\n",
       "</style>\n",
       "<table border=\"1\" class=\"dataframe\">\n",
       "  <thead>\n",
       "    <tr style=\"text-align: right;\">\n",
       "      <th>borough</th>\n",
       "      <th>Westminster</th>\n",
       "      <th>Lambeth</th>\n",
       "      <th>Southwark</th>\n",
       "      <th>Camden</th>\n",
       "      <th>Newham</th>\n",
       "    </tr>\n",
       "    <tr>\n",
       "      <th>year</th>\n",
       "      <th></th>\n",
       "      <th></th>\n",
       "      <th></th>\n",
       "      <th></th>\n",
       "      <th></th>\n",
       "    </tr>\n",
       "  </thead>\n",
       "  <tbody>\n",
       "    <tr>\n",
       "      <th>2008</th>\n",
       "      <td>47846</td>\n",
       "      <td>31717</td>\n",
       "      <td>33470</td>\n",
       "      <td>32010</td>\n",
       "      <td>29752</td>\n",
       "    </tr>\n",
       "    <tr>\n",
       "      <th>2009</th>\n",
       "      <td>48456</td>\n",
       "      <td>31225</td>\n",
       "      <td>30623</td>\n",
       "      <td>31612</td>\n",
       "      <td>28610</td>\n",
       "    </tr>\n",
       "    <tr>\n",
       "      <th>2010</th>\n",
       "      <td>48116</td>\n",
       "      <td>31671</td>\n",
       "      <td>31320</td>\n",
       "      <td>31804</td>\n",
       "      <td>30728</td>\n",
       "    </tr>\n",
       "    <tr>\n",
       "      <th>2011</th>\n",
       "      <td>54243</td>\n",
       "      <td>33224</td>\n",
       "      <td>30723</td>\n",
       "      <td>33956</td>\n",
       "      <td>27978</td>\n",
       "    </tr>\n",
       "    <tr>\n",
       "      <th>2012</th>\n",
       "      <td>59226</td>\n",
       "      <td>33473</td>\n",
       "      <td>30737</td>\n",
       "      <td>31472</td>\n",
       "      <td>30067</td>\n",
       "    </tr>\n",
       "    <tr>\n",
       "      <th>2013</th>\n",
       "      <td>53852</td>\n",
       "      <td>31868</td>\n",
       "      <td>31128</td>\n",
       "      <td>28435</td>\n",
       "      <td>27577</td>\n",
       "    </tr>\n",
       "    <tr>\n",
       "      <th>2014</th>\n",
       "      <td>47564</td>\n",
       "      <td>31765</td>\n",
       "      <td>28912</td>\n",
       "      <td>27198</td>\n",
       "      <td>28005</td>\n",
       "    </tr>\n",
       "    <tr>\n",
       "      <th>2015</th>\n",
       "      <td>47395</td>\n",
       "      <td>33164</td>\n",
       "      <td>30260</td>\n",
       "      <td>29477</td>\n",
       "      <td>29217</td>\n",
       "    </tr>\n",
       "    <tr>\n",
       "      <th>2016</th>\n",
       "      <td>48330</td>\n",
       "      <td>34071</td>\n",
       "      <td>31636</td>\n",
       "      <td>29183</td>\n",
       "      <td>30090</td>\n",
       "    </tr>\n",
       "  </tbody>\n",
       "</table>\n",
       "</div>"
      ],
      "text/plain": [
       "borough  Westminster  Lambeth  Southwark  Camden  Newham\n",
       "year                                                    \n",
       "2008           47846    31717      33470   32010   29752\n",
       "2009           48456    31225      30623   31612   28610\n",
       "2010           48116    31671      31320   31804   30728\n",
       "2011           54243    33224      30723   33956   27978\n",
       "2012           59226    33473      30737   31472   30067\n",
       "2013           53852    31868      31128   28435   27577\n",
       "2014           47564    31765      28912   27198   28005\n",
       "2015           47395    33164      30260   29477   29217\n",
       "2016           48330    34071      31636   29183   30090"
      ]
     },
     "execution_count": 75,
     "metadata": {},
     "output_type": "execute_result"
    }
   ],
   "source": [
    "drugs_top = drugs_top5t.drop('Total')\n",
    "drugs_top"
   ]
  },
  {
   "cell_type": "markdown",
   "id": "b081c034-1962-4533-89a8-8feb060ad95c",
   "metadata": {},
   "source": [
    "## Area Plots\n",
    "\n",
    "Question:\n",
    "Bagaimana perbandingan kasus narkoba di 5 borough dengan kasus tertinggi di tahun 2008-2016?\n"
   ]
  },
  {
   "cell_type": "code",
   "execution_count": 76,
   "id": "29ec21dd-3d39-47ad-86c5-2c7de3eb3ab7",
   "metadata": {},
   "outputs": [
    {
     "data": {
      "image/png": "[encoded data removed]",
      "text/plain": [
       "<Figure size 1440x720 with 1 Axes>"
      ]
     },
     "metadata": {
      "needs_background": "light"
     },
     "output_type": "display_data"
    }
   ],
   "source": [
    "drugs_top.plot(kind='area',\n",
    "              stacked=False,\n",
    "              figsize=(20,10),\n",
    "               alpha=0.25,\n",
    "              )\n",
    "plt.title('Top 5 Drugs related crimes 2008-2016')\n",
    "plt.ylabel('Cases')\n",
    "plt.xlabel('Years')\n",
    "\n",
    "plt.show()"
   ]
  },
  {
   "cell_type": "markdown",
   "id": "c8b31140-ee18-4ff5-acfd-e87e4eed40ee",
   "metadata": {},
   "source": [
    "Insight: \n",
    "Kelima borough yang memiliki kasus drugs tertinggi memiliki trend kasus narkoba yang cenderung stabil setiap tahun, dengan catatan ada kasus yang cukup meningkat pada tahun 2012 di borough Westminster."
   ]
  },
  {
   "cell_type": "markdown",
   "id": "bfc923f7-150a-4df7-a93b-c12f4f27209d",
   "metadata": {},
   "source": [
    "## Histogram\n",
    "Question: Bagaimana perbandingan kasus narkoba pada 3 borough (Greenwich, Harrow, & Sutton) pada tahun 2010?"
   ]
  },
  {
   "cell_type": "code",
   "execution_count": 77,
   "id": "94221f95-174a-4fc1-bbb8-74ed2857bf54",
   "metadata": {},
   "outputs": [
    {
     "data": {
      "text/plain": [
       "borough\n",
       "Westminster               48116\n",
       "Lambeth                   31671\n",
       "Southwark                 31320\n",
       "Camden                    31804\n",
       "Newham                    30728\n",
       "Croydon                   29373\n",
       "Ealing                    31360\n",
       "Islington                 24693\n",
       "Tower Hamlets             23072\n",
       "Brent                     25512\n",
       "Hackney                   20175\n",
       "Lewisham                  24532\n",
       "Haringey                  22156\n",
       "Barnet                    23416\n",
       "Hillingdon                23421\n",
       "Wandsworth                22815\n",
       "Waltham Forest            24818\n",
       "Enfield                   20808\n",
       "Hounslow                  19665\n",
       "Hammersmith and Fulham    21941\n",
       "Bromley                   19572\n",
       "Redbridge                 20652\n",
       "Greenwich                 18626\n",
       "Kensington and Chelsea    19481\n",
       "Barking and Dagenham      17130\n",
       "Havering                  14957\n",
       "Harrow                    13945\n",
       "Merton                    13595\n",
       "Bexley                    13166\n",
       "Sutton                    12032\n",
       "Richmond upon Thames      10601\n",
       "Kingston upon Thames      10171\n",
       "City of London                0\n",
       "Name: 2010, dtype: int64"
      ]
     },
     "execution_count": 77,
     "metadata": {},
     "output_type": "execute_result"
    }
   ],
   "source": [
    "# memeriksa data kasus drugs pada tahun 2010 di semua borough\n",
    "drugs_[2010]"
   ]
  },
  {
   "cell_type": "code",
   "execution_count": 78,
   "id": "1ea185de-2f92-4bb1-9413-0973cd535462",
   "metadata": {},
   "outputs": [
    {
     "name": "stdout",
     "output_type": "stream",
     "text": [
      "[ 1  0  6  3 12  4  6  0  0  1]\n",
      "[    0.   4811.6  9623.2 14434.8 19246.4 24058.  28869.6 33681.2 38492.8\n",
      " 43304.4 48116. ]\n"
     ]
    }
   ],
   "source": [
    "count, bin_edges = np.histogram(drugs_[2010])\n",
    "\n",
    "print(count)\n",
    "print(bin_edges)"
   ]
  },
  {
   "cell_type": "code",
   "execution_count": 79,
   "id": "34795035-8ec9-41f4-95a7-094018ead749",
   "metadata": {},
   "outputs": [
    {
     "data": {
      "text/plain": [
       "<AxesSubplot:ylabel='Frequency'>"
      ]
     },
     "execution_count": 79,
     "metadata": {},
     "output_type": "execute_result"
    },
    {
     "data": {
      "image/png": "[encoded data removed]",
      "text/plain": [
       "<Figure size 432x288 with 1 Axes>"
      ]
     },
     "metadata": {
      "needs_background": "light"
     },
     "output_type": "display_data"
    }
   ],
   "source": [
    "drugs_[2010].plot(kind='hist')"
   ]
  },
  {
   "cell_type": "code",
   "execution_count": 108,
   "id": "21e266b3-0abb-4ffd-a31b-582e0c2fcbcb",
   "metadata": {},
   "outputs": [
    {
     "data": {
      "text/html": [
       "<div>\n",
       "<style scoped>\n",
       "    .dataframe tbody tr th:only-of-type {\n",
       "        vertical-align: middle;\n",
       "    }\n",
       "\n",
       "    .dataframe tbody tr th {\n",
       "        vertical-align: top;\n",
       "    }\n",
       "\n",
       "    .dataframe thead th {\n",
       "        text-align: right;\n",
       "    }\n",
       "</style>\n",
       "<table border=\"1\" class=\"dataframe\">\n",
       "  <thead>\n",
       "    <tr style=\"text-align: right;\">\n",
       "      <th>year</th>\n",
       "      <th>2008</th>\n",
       "      <th>2009</th>\n",
       "      <th>2010</th>\n",
       "      <th>2011</th>\n",
       "      <th>2012</th>\n",
       "      <th>2013</th>\n",
       "      <th>2014</th>\n",
       "      <th>2015</th>\n",
       "      <th>2016</th>\n",
       "      <th>Total</th>\n",
       "    </tr>\n",
       "    <tr>\n",
       "      <th>borough</th>\n",
       "      <th></th>\n",
       "      <th></th>\n",
       "      <th></th>\n",
       "      <th></th>\n",
       "      <th></th>\n",
       "      <th></th>\n",
       "      <th></th>\n",
       "      <th></th>\n",
       "      <th></th>\n",
       "      <th></th>\n",
       "    </tr>\n",
       "  </thead>\n",
       "  <tbody>\n",
       "    <tr>\n",
       "      <th>Greenwich</th>\n",
       "      <td>22010</td>\n",
       "      <td>19851</td>\n",
       "      <td>18626</td>\n",
       "      <td>18552</td>\n",
       "      <td>20028</td>\n",
       "      <td>18948</td>\n",
       "      <td>19894</td>\n",
       "      <td>20929</td>\n",
       "      <td>22730</td>\n",
       "      <td>363136</td>\n",
       "    </tr>\n",
       "    <tr>\n",
       "      <th>Harrow</th>\n",
       "      <td>13774</td>\n",
       "      <td>13948</td>\n",
       "      <td>13945</td>\n",
       "      <td>12801</td>\n",
       "      <td>12803</td>\n",
       "      <td>11914</td>\n",
       "      <td>11909</td>\n",
       "      <td>12601</td>\n",
       "      <td>13153</td>\n",
       "      <td>233696</td>\n",
       "    </tr>\n",
       "    <tr>\n",
       "      <th>Sutton</th>\n",
       "      <td>12943</td>\n",
       "      <td>12240</td>\n",
       "      <td>12032</td>\n",
       "      <td>11068</td>\n",
       "      <td>10948</td>\n",
       "      <td>10057</td>\n",
       "      <td>10443</td>\n",
       "      <td>10598</td>\n",
       "      <td>10658</td>\n",
       "      <td>201974</td>\n",
       "    </tr>\n",
       "  </tbody>\n",
       "</table>\n",
       "</div>"
      ],
      "text/plain": [
       "year        2008   2009   2010   2011   2012   2013   2014   2015   2016  \\\n",
       "borough                                                                    \n",
       "Greenwich  22010  19851  18626  18552  20028  18948  19894  20929  22730   \n",
       "Harrow     13774  13948  13945  12801  12803  11914  11909  12601  13153   \n",
       "Sutton     12943  12240  12032  11068  10948  10057  10443  10598  10658   \n",
       "\n",
       "year        Total  \n",
       "borough            \n",
       "Greenwich  363136  \n",
       "Harrow     233696  \n",
       "Sutton     201974  "
      ]
     },
     "execution_count": 108,
     "metadata": {},
     "output_type": "execute_result"
    }
   ],
   "source": [
    "# memilih 3 kota dari dataframe untuk dianalisis\n",
    "drugs_ghs = drugs_.loc[['Greenwich', 'Harrow', 'Sutton']]\n",
    "drugs_ghs"
   ]
  },
  {
   "cell_type": "code",
   "execution_count": 101,
   "id": "b96969d2-655a-41a3-a789-b3af90e23eb9",
   "metadata": {},
   "outputs": [
    {
     "data": {
      "text/html": [
       "<div>\n",
       "<style scoped>\n",
       "    .dataframe tbody tr th:only-of-type {\n",
       "        vertical-align: middle;\n",
       "    }\n",
       "\n",
       "    .dataframe tbody tr th {\n",
       "        vertical-align: top;\n",
       "    }\n",
       "\n",
       "    .dataframe thead th {\n",
       "        text-align: right;\n",
       "    }\n",
       "</style>\n",
       "<table border=\"1\" class=\"dataframe\">\n",
       "  <thead>\n",
       "    <tr style=\"text-align: right;\">\n",
       "      <th>borough</th>\n",
       "      <th>Greenwich</th>\n",
       "      <th>Harrow</th>\n",
       "      <th>Sutton</th>\n",
       "    </tr>\n",
       "    <tr>\n",
       "      <th>year</th>\n",
       "      <th></th>\n",
       "      <th></th>\n",
       "      <th></th>\n",
       "    </tr>\n",
       "  </thead>\n",
       "  <tbody>\n",
       "    <tr>\n",
       "      <th>2008</th>\n",
       "      <td>22010</td>\n",
       "      <td>13774</td>\n",
       "      <td>12943</td>\n",
       "    </tr>\n",
       "    <tr>\n",
       "      <th>2009</th>\n",
       "      <td>19851</td>\n",
       "      <td>13948</td>\n",
       "      <td>12240</td>\n",
       "    </tr>\n",
       "    <tr>\n",
       "      <th>2010</th>\n",
       "      <td>18626</td>\n",
       "      <td>13945</td>\n",
       "      <td>12032</td>\n",
       "    </tr>\n",
       "    <tr>\n",
       "      <th>2011</th>\n",
       "      <td>18552</td>\n",
       "      <td>12801</td>\n",
       "      <td>11068</td>\n",
       "    </tr>\n",
       "    <tr>\n",
       "      <th>2012</th>\n",
       "      <td>20028</td>\n",
       "      <td>12803</td>\n",
       "      <td>10948</td>\n",
       "    </tr>\n",
       "    <tr>\n",
       "      <th>2013</th>\n",
       "      <td>18948</td>\n",
       "      <td>11914</td>\n",
       "      <td>10057</td>\n",
       "    </tr>\n",
       "    <tr>\n",
       "      <th>2014</th>\n",
       "      <td>19894</td>\n",
       "      <td>11909</td>\n",
       "      <td>10443</td>\n",
       "    </tr>\n",
       "    <tr>\n",
       "      <th>2015</th>\n",
       "      <td>20929</td>\n",
       "      <td>12601</td>\n",
       "      <td>10598</td>\n",
       "    </tr>\n",
       "    <tr>\n",
       "      <th>2016</th>\n",
       "      <td>22730</td>\n",
       "      <td>13153</td>\n",
       "      <td>10658</td>\n",
       "    </tr>\n",
       "    <tr>\n",
       "      <th>Total</th>\n",
       "      <td>363136</td>\n",
       "      <td>233696</td>\n",
       "      <td>201974</td>\n",
       "    </tr>\n",
       "  </tbody>\n",
       "</table>\n",
       "</div>"
      ],
      "text/plain": [
       "borough  Greenwich  Harrow  Sutton\n",
       "year                              \n",
       "2008         22010   13774   12943\n",
       "2009         19851   13948   12240\n",
       "2010         18626   13945   12032\n",
       "2011         18552   12801   11068\n",
       "2012         20028   12803   10948\n",
       "2013         18948   11914   10057\n",
       "2014         19894   11909   10443\n",
       "2015         20929   12601   10598\n",
       "2016         22730   13153   10658\n",
       "Total       363136  233696  201974"
      ]
     },
     "execution_count": 101,
     "metadata": {},
     "output_type": "execute_result"
    }
   ],
   "source": [
    "drugs_ghs = drugs_ghs.T\n",
    "drugs_ghs"
   ]
  },
  {
   "cell_type": "code",
   "execution_count": 116,
   "id": "bdf03bab-1d88-4fa2-80fb-7fe789a4fe7a",
   "metadata": {},
   "outputs": [
    {
     "data": {
      "text/html": [
       "<div>\n",
       "<style scoped>\n",
       "    .dataframe tbody tr th:only-of-type {\n",
       "        vertical-align: middle;\n",
       "    }\n",
       "\n",
       "    .dataframe tbody tr th {\n",
       "        vertical-align: top;\n",
       "    }\n",
       "\n",
       "    .dataframe thead th {\n",
       "        text-align: right;\n",
       "    }\n",
       "</style>\n",
       "<table border=\"1\" class=\"dataframe\">\n",
       "  <thead>\n",
       "    <tr style=\"text-align: right;\">\n",
       "      <th>year</th>\n",
       "      <th>2008</th>\n",
       "      <th>2009</th>\n",
       "      <th>2010</th>\n",
       "      <th>2011</th>\n",
       "      <th>2012</th>\n",
       "      <th>2013</th>\n",
       "      <th>2014</th>\n",
       "      <th>2015</th>\n",
       "      <th>2016</th>\n",
       "    </tr>\n",
       "    <tr>\n",
       "      <th>borough</th>\n",
       "      <th></th>\n",
       "      <th></th>\n",
       "      <th></th>\n",
       "      <th></th>\n",
       "      <th></th>\n",
       "      <th></th>\n",
       "      <th></th>\n",
       "      <th></th>\n",
       "      <th></th>\n",
       "    </tr>\n",
       "  </thead>\n",
       "  <tbody>\n",
       "    <tr>\n",
       "      <th>Greenwich</th>\n",
       "      <td>22010</td>\n",
       "      <td>19851</td>\n",
       "      <td>18626</td>\n",
       "      <td>18552</td>\n",
       "      <td>20028</td>\n",
       "      <td>18948</td>\n",
       "      <td>19894</td>\n",
       "      <td>20929</td>\n",
       "      <td>22730</td>\n",
       "    </tr>\n",
       "    <tr>\n",
       "      <th>Harrow</th>\n",
       "      <td>13774</td>\n",
       "      <td>13948</td>\n",
       "      <td>13945</td>\n",
       "      <td>12801</td>\n",
       "      <td>12803</td>\n",
       "      <td>11914</td>\n",
       "      <td>11909</td>\n",
       "      <td>12601</td>\n",
       "      <td>13153</td>\n",
       "    </tr>\n",
       "    <tr>\n",
       "      <th>Sutton</th>\n",
       "      <td>12943</td>\n",
       "      <td>12240</td>\n",
       "      <td>12032</td>\n",
       "      <td>11068</td>\n",
       "      <td>10948</td>\n",
       "      <td>10057</td>\n",
       "      <td>10443</td>\n",
       "      <td>10598</td>\n",
       "      <td>10658</td>\n",
       "    </tr>\n",
       "  </tbody>\n",
       "</table>\n",
       "</div>"
      ],
      "text/plain": [
       "year        2008   2009   2010   2011   2012   2013   2014   2015   2016\n",
       "borough                                                                 \n",
       "Greenwich  22010  19851  18626  18552  20028  18948  19894  20929  22730\n",
       "Harrow     13774  13948  13945  12801  12803  11914  11909  12601  13153\n",
       "Sutton     12943  12240  12032  11068  10948  10057  10443  10598  10658"
      ]
     },
     "execution_count": 116,
     "metadata": {},
     "output_type": "execute_result"
    }
   ],
   "source": [
    "drugs_ghs"
   ]
  },
  {
   "cell_type": "code",
   "execution_count": 117,
   "id": "31dfd02e-6247-41f9-ad82-b854385a5ce9",
   "metadata": {},
   "outputs": [
    {
     "data": {
      "text/html": [
       "<div>\n",
       "<style scoped>\n",
       "    .dataframe tbody tr th:only-of-type {\n",
       "        vertical-align: middle;\n",
       "    }\n",
       "\n",
       "    .dataframe tbody tr th {\n",
       "        vertical-align: top;\n",
       "    }\n",
       "\n",
       "    .dataframe thead th {\n",
       "        text-align: right;\n",
       "    }\n",
       "</style>\n",
       "<table border=\"1\" class=\"dataframe\">\n",
       "  <thead>\n",
       "    <tr style=\"text-align: right;\">\n",
       "      <th>borough</th>\n",
       "      <th>Greenwich</th>\n",
       "      <th>Harrow</th>\n",
       "      <th>Sutton</th>\n",
       "    </tr>\n",
       "    <tr>\n",
       "      <th>year</th>\n",
       "      <th></th>\n",
       "      <th></th>\n",
       "      <th></th>\n",
       "    </tr>\n",
       "  </thead>\n",
       "  <tbody>\n",
       "    <tr>\n",
       "      <th>2008</th>\n",
       "      <td>22010</td>\n",
       "      <td>13774</td>\n",
       "      <td>12943</td>\n",
       "    </tr>\n",
       "    <tr>\n",
       "      <th>2009</th>\n",
       "      <td>19851</td>\n",
       "      <td>13948</td>\n",
       "      <td>12240</td>\n",
       "    </tr>\n",
       "    <tr>\n",
       "      <th>2010</th>\n",
       "      <td>18626</td>\n",
       "      <td>13945</td>\n",
       "      <td>12032</td>\n",
       "    </tr>\n",
       "    <tr>\n",
       "      <th>2011</th>\n",
       "      <td>18552</td>\n",
       "      <td>12801</td>\n",
       "      <td>11068</td>\n",
       "    </tr>\n",
       "    <tr>\n",
       "      <th>2012</th>\n",
       "      <td>20028</td>\n",
       "      <td>12803</td>\n",
       "      <td>10948</td>\n",
       "    </tr>\n",
       "    <tr>\n",
       "      <th>2013</th>\n",
       "      <td>18948</td>\n",
       "      <td>11914</td>\n",
       "      <td>10057</td>\n",
       "    </tr>\n",
       "    <tr>\n",
       "      <th>2014</th>\n",
       "      <td>19894</td>\n",
       "      <td>11909</td>\n",
       "      <td>10443</td>\n",
       "    </tr>\n",
       "    <tr>\n",
       "      <th>2015</th>\n",
       "      <td>20929</td>\n",
       "      <td>12601</td>\n",
       "      <td>10598</td>\n",
       "    </tr>\n",
       "    <tr>\n",
       "      <th>2016</th>\n",
       "      <td>22730</td>\n",
       "      <td>13153</td>\n",
       "      <td>10658</td>\n",
       "    </tr>\n",
       "  </tbody>\n",
       "</table>\n",
       "</div>"
      ],
      "text/plain": [
       "borough  Greenwich  Harrow  Sutton\n",
       "year                              \n",
       "2008         22010   13774   12943\n",
       "2009         19851   13948   12240\n",
       "2010         18626   13945   12032\n",
       "2011         18552   12801   11068\n",
       "2012         20028   12803   10948\n",
       "2013         18948   11914   10057\n",
       "2014         19894   11909   10443\n",
       "2015         20929   12601   10598\n",
       "2016         22730   13153   10658"
      ]
     },
     "execution_count": 117,
     "metadata": {},
     "output_type": "execute_result"
    }
   ],
   "source": [
    "drugs_ghs = drugs_ghs.T\n",
    "drugs_ghs"
   ]
  },
  {
   "cell_type": "code",
   "execution_count": 122,
   "id": "1910b562-c4be-4cf5-91d2-75de69d4f8ae",
   "metadata": {},
   "outputs": [
    {
     "data": {
      "text/plain": [
       "<function matplotlib.pyplot.show(close=None, block=None)>"
      ]
     },
     "execution_count": 122,
     "metadata": {},
     "output_type": "execute_result"
    },
    {
     "data": {
      "image/png": "[encoded data removed]",
      "text/plain": [
       "<Figure size 1440x720 with 1 Axes>"
      ]
     },
     "metadata": {
      "needs_background": "light"
     },
     "output_type": "display_data"
    }
   ],
   "source": [
    "drugs_ghs.plot(kind=\"hist\", stacked=False, alpha=0.5, figsize=(20,10))\n",
    "plt.title('Histogram angka kriminal narkoba di borough Greenwivh, Harrow, & Sutton')\n",
    "plt.xlabel('Jumlah kasus')\n",
    "plt.ylabel('Jumlah tahun')\n",
    "plt.show"
   ]
  },
  {
   "cell_type": "markdown",
   "id": "2f1ee775-70bf-4b94-9e6d-c4dde7144b2b",
   "metadata": {},
   "source": [
    "Insight: "
   ]
  },
  {
   "cell_type": "markdown",
   "id": "017a108e-5562-4b29-af49-24b49e079a25",
   "metadata": {},
   "source": [
    "## Barchart\n",
    "Question: Bagaimana tren kasus narkoba di borough Westminster tahun 2008-2016?"
   ]
  },
  {
   "cell_type": "code",
   "execution_count": 126,
   "id": "7dab6ef3-0fba-44b1-8bf7-62a2ac34baa8",
   "metadata": {},
   "outputs": [
    {
     "data": {
      "text/plain": [
       "year\n",
       "2008      47846\n",
       "2009      48456\n",
       "2010      48116\n",
       "2011      54243\n",
       "2012      59226\n",
       "2013      53852\n",
       "2014      47564\n",
       "2015      47395\n",
       "2016      48330\n",
       "Total    910056\n",
       "Name: Westminster, dtype: int64"
      ]
     },
     "execution_count": 126,
     "metadata": {},
     "output_type": "execute_result"
    }
   ],
   "source": [
    "drugs_west = drugs_.loc['Westminster']\n",
    "drugs_west"
   ]
  },
  {
   "cell_type": "code",
   "execution_count": 127,
   "id": "d8bb8b3a-750f-4513-825e-e4eac1cd53ca",
   "metadata": {},
   "outputs": [
    {
     "data": {
      "text/plain": [
       "year\n",
       "2008    47846\n",
       "2009    48456\n",
       "2010    48116\n",
       "2011    54243\n",
       "2012    59226\n",
       "2013    53852\n",
       "2014    47564\n",
       "2015    47395\n",
       "2016    48330\n",
       "Name: Westminster, dtype: int64"
      ]
     },
     "execution_count": 127,
     "metadata": {},
     "output_type": "execute_result"
    }
   ],
   "source": [
    "drugs_west = drugs_west.drop(drugs_west.index[-1])\n",
    "drugs_west"
   ]
  },
  {
   "cell_type": "code",
   "execution_count": 128,
   "id": "c62b3dba-1d2a-48b4-8519-a30bfe984e7e",
   "metadata": {},
   "outputs": [
    {
     "data": {
      "text/plain": [
       "<function matplotlib.pyplot.show(close=None, block=None)>"
      ]
     },
     "execution_count": 128,
     "metadata": {},
     "output_type": "execute_result"
    },
    {
     "data": {
      "image/png": "[encoded data removed]",
      "text/plain": [
       "<Figure size 720x360 with 1 Axes>"
      ]
     },
     "metadata": {
      "needs_background": "light"
     },
     "output_type": "display_data"
    }
   ],
   "source": [
    "drugs_west.plot(kind='barh', figsize=(10,5))\n",
    "plt.title('Drugs crime cases in Westminster 2008-2016')\n",
    "plt.xlabel('Number of cases')\n",
    "plt.ylabel('Years')\n",
    "plt.show"
   ]
  },
  {
   "cell_type": "markdown",
   "id": "f33179ad-9c2b-4278-974c-83bc6498fc72",
   "metadata": {},
   "source": [
    "Insight: kasus narkoba di Westminster dari tahun ke tahun relatif stabil, dengan kenaikan cukup tinggi di sekitar tahun 2011-2013"
   ]
  },
  {
   "cell_type": "markdown",
   "id": "5a1f0d0f-920c-4656-ae65-24bd5c68f33a",
   "metadata": {},
   "source": [
    "## Pie Chart\n",
    "Question: Bagaimana persentase kasus narkoba di 5 borough dengan kasus terbanyak?"
   ]
  },
  {
   "cell_type": "code",
   "execution_count": 182,
   "id": "42f592fb-26f3-4a29-b6e6-9ab86979cf85",
   "metadata": {},
   "outputs": [
    {
     "data": {
      "text/html": [
       "<div>\n",
       "<style scoped>\n",
       "    .dataframe tbody tr th:only-of-type {\n",
       "        vertical-align: middle;\n",
       "    }\n",
       "\n",
       "    .dataframe tbody tr th {\n",
       "        vertical-align: top;\n",
       "    }\n",
       "\n",
       "    .dataframe thead th {\n",
       "        text-align: right;\n",
       "    }\n",
       "</style>\n",
       "<table border=\"1\" class=\"dataframe\">\n",
       "  <thead>\n",
       "    <tr style=\"text-align: right;\">\n",
       "      <th>year</th>\n",
       "      <th>2008</th>\n",
       "      <th>2009</th>\n",
       "      <th>2010</th>\n",
       "      <th>2011</th>\n",
       "      <th>2012</th>\n",
       "      <th>2013</th>\n",
       "      <th>2014</th>\n",
       "      <th>2015</th>\n",
       "      <th>2016</th>\n",
       "      <th>Total</th>\n",
       "    </tr>\n",
       "    <tr>\n",
       "      <th>borough</th>\n",
       "      <th></th>\n",
       "      <th></th>\n",
       "      <th></th>\n",
       "      <th></th>\n",
       "      <th></th>\n",
       "      <th></th>\n",
       "      <th></th>\n",
       "      <th></th>\n",
       "      <th></th>\n",
       "      <th></th>\n",
       "    </tr>\n",
       "  </thead>\n",
       "  <tbody>\n",
       "    <tr>\n",
       "      <th>Westminster</th>\n",
       "      <td>47846</td>\n",
       "      <td>48456</td>\n",
       "      <td>48116</td>\n",
       "      <td>54243</td>\n",
       "      <td>59226</td>\n",
       "      <td>53852</td>\n",
       "      <td>47564</td>\n",
       "      <td>47395</td>\n",
       "      <td>48330</td>\n",
       "      <td>1365084</td>\n",
       "    </tr>\n",
       "    <tr>\n",
       "      <th>Lambeth</th>\n",
       "      <td>31717</td>\n",
       "      <td>31225</td>\n",
       "      <td>31671</td>\n",
       "      <td>33224</td>\n",
       "      <td>33473</td>\n",
       "      <td>31868</td>\n",
       "      <td>31765</td>\n",
       "      <td>33164</td>\n",
       "      <td>34071</td>\n",
       "      <td>876534</td>\n",
       "    </tr>\n",
       "    <tr>\n",
       "      <th>Southwark</th>\n",
       "      <td>33470</td>\n",
       "      <td>30623</td>\n",
       "      <td>31320</td>\n",
       "      <td>30723</td>\n",
       "      <td>30737</td>\n",
       "      <td>31128</td>\n",
       "      <td>28912</td>\n",
       "      <td>30260</td>\n",
       "      <td>31636</td>\n",
       "      <td>836427</td>\n",
       "    </tr>\n",
       "    <tr>\n",
       "      <th>Camden</th>\n",
       "      <td>32010</td>\n",
       "      <td>31612</td>\n",
       "      <td>31804</td>\n",
       "      <td>33956</td>\n",
       "      <td>31472</td>\n",
       "      <td>28435</td>\n",
       "      <td>27198</td>\n",
       "      <td>29477</td>\n",
       "      <td>29183</td>\n",
       "      <td>825441</td>\n",
       "    </tr>\n",
       "    <tr>\n",
       "      <th>Newham</th>\n",
       "      <td>29752</td>\n",
       "      <td>28610</td>\n",
       "      <td>30728</td>\n",
       "      <td>27978</td>\n",
       "      <td>30067</td>\n",
       "      <td>27577</td>\n",
       "      <td>28005</td>\n",
       "      <td>29217</td>\n",
       "      <td>30090</td>\n",
       "      <td>786072</td>\n",
       "    </tr>\n",
       "  </tbody>\n",
       "</table>\n",
       "</div>"
      ],
      "text/plain": [
       "year          2008   2009   2010   2011   2012   2013   2014   2015   2016  \\\n",
       "borough                                                                      \n",
       "Westminster  47846  48456  48116  54243  59226  53852  47564  47395  48330   \n",
       "Lambeth      31717  31225  31671  33224  33473  31868  31765  33164  34071   \n",
       "Southwark    33470  30623  31320  30723  30737  31128  28912  30260  31636   \n",
       "Camden       32010  31612  31804  33956  31472  28435  27198  29477  29183   \n",
       "Newham       29752  28610  30728  27978  30067  27577  28005  29217  30090   \n",
       "\n",
       "year           Total  \n",
       "borough               \n",
       "Westminster  1365084  \n",
       "Lambeth       876534  \n",
       "Southwark     836427  \n",
       "Camden        825441  \n",
       "Newham        786072  "
      ]
     },
     "execution_count": 182,
     "metadata": {},
     "output_type": "execute_result"
    }
   ],
   "source": [
    "drugs_top5"
   ]
  },
  {
   "cell_type": "code",
   "execution_count": 129,
   "id": "0382fc9e-fcba-470e-afc5-825a8923162f",
   "metadata": {},
   "outputs": [
    {
     "data": {
      "text/plain": [
       "<AxesSubplot:ylabel='2009'>"
      ]
     },
     "execution_count": 129,
     "metadata": {},
     "output_type": "execute_result"
    },
    {
     "data": {
      "image/png": "[encoded data removed]",
      "text/plain": [
       "<Figure size 360x432 with 1 Axes>"
      ]
     },
     "metadata": {},
     "output_type": "display_data"
    }
   ],
   "source": [
    "drugs_top5[2009].plot(kind='pie', figsize=(5,6), autopct=\"%1.1f%%\", startangle=0)"
   ]
  },
  {
   "cell_type": "markdown",
   "id": "101649b2-602c-4462-a866-ef0db106fb02",
   "metadata": {},
   "source": [
    "Insight: Peresentase kasus narkoba di Westminster jauh lebih tinggi daripada kasus di borough lainnya"
   ]
  },
  {
   "cell_type": "code",
   "execution_count": 195,
   "id": "ee213036-5fda-40e8-9e97-0918c812c408",
   "metadata": {},
   "outputs": [
    {
     "data": {
      "text/html": [
       "<div>\n",
       "<style scoped>\n",
       "    .dataframe tbody tr th:only-of-type {\n",
       "        vertical-align: middle;\n",
       "    }\n",
       "\n",
       "    .dataframe tbody tr th {\n",
       "        vertical-align: top;\n",
       "    }\n",
       "\n",
       "    .dataframe thead th {\n",
       "        text-align: right;\n",
       "    }\n",
       "</style>\n",
       "<table border=\"1\" class=\"dataframe\">\n",
       "  <thead>\n",
       "    <tr style=\"text-align: right;\">\n",
       "      <th>year</th>\n",
       "      <th>2008</th>\n",
       "      <th>2009</th>\n",
       "      <th>2010</th>\n",
       "      <th>2011</th>\n",
       "      <th>2012</th>\n",
       "      <th>2013</th>\n",
       "      <th>2014</th>\n",
       "      <th>2015</th>\n",
       "      <th>2016</th>\n",
       "    </tr>\n",
       "  </thead>\n",
       "  <tbody>\n",
       "    <tr>\n",
       "      <th>count</th>\n",
       "      <td>33.000000</td>\n",
       "      <td>33.000000</td>\n",
       "      <td>33.000000</td>\n",
       "      <td>33.000000</td>\n",
       "      <td>33.000000</td>\n",
       "      <td>33.000000</td>\n",
       "      <td>33.000000</td>\n",
       "      <td>33.000000</td>\n",
       "      <td>33.000000</td>\n",
       "    </tr>\n",
       "    <tr>\n",
       "      <th>mean</th>\n",
       "      <td>22383.060606</td>\n",
       "      <td>21733.757576</td>\n",
       "      <td>21676.484848</td>\n",
       "      <td>21967.121212</td>\n",
       "      <td>22343.303030</td>\n",
       "      <td>20800.212121</td>\n",
       "      <td>20611.606061</td>\n",
       "      <td>21564.363636</td>\n",
       "      <td>22306.696970</td>\n",
       "    </tr>\n",
       "    <tr>\n",
       "      <th>std</th>\n",
       "      <td>8472.899684</td>\n",
       "      <td>8456.505277</td>\n",
       "      <td>8640.040332</td>\n",
       "      <td>9415.621198</td>\n",
       "      <td>9974.924813</td>\n",
       "      <td>9172.160418</td>\n",
       "      <td>8357.962573</td>\n",
       "      <td>8605.496648</td>\n",
       "      <td>8828.228749</td>\n",
       "    </tr>\n",
       "    <tr>\n",
       "      <th>min</th>\n",
       "      <td>0.000000</td>\n",
       "      <td>0.000000</td>\n",
       "      <td>0.000000</td>\n",
       "      <td>69.000000</td>\n",
       "      <td>157.000000</td>\n",
       "      <td>110.000000</td>\n",
       "      <td>115.000000</td>\n",
       "      <td>151.000000</td>\n",
       "      <td>178.000000</td>\n",
       "    </tr>\n",
       "    <tr>\n",
       "      <th>25%</th>\n",
       "      <td>17656.000000</td>\n",
       "      <td>17713.000000</td>\n",
       "      <td>17130.000000</td>\n",
       "      <td>16686.000000</td>\n",
       "      <td>15990.000000</td>\n",
       "      <td>15759.000000</td>\n",
       "      <td>15426.000000</td>\n",
       "      <td>16346.000000</td>\n",
       "      <td>16903.000000</td>\n",
       "    </tr>\n",
       "    <tr>\n",
       "      <th>50%</th>\n",
       "      <td>23330.000000</td>\n",
       "      <td>21858.000000</td>\n",
       "      <td>21941.000000</td>\n",
       "      <td>21994.000000</td>\n",
       "      <td>22647.000000</td>\n",
       "      <td>20705.000000</td>\n",
       "      <td>21101.000000</td>\n",
       "      <td>22076.000000</td>\n",
       "      <td>22730.000000</td>\n",
       "    </tr>\n",
       "    <tr>\n",
       "      <th>75%</th>\n",
       "      <td>26273.000000</td>\n",
       "      <td>25182.000000</td>\n",
       "      <td>24818.000000</td>\n",
       "      <td>24980.000000</td>\n",
       "      <td>26784.000000</td>\n",
       "      <td>25633.000000</td>\n",
       "      <td>24893.000000</td>\n",
       "      <td>26941.000000</td>\n",
       "      <td>27174.000000</td>\n",
       "    </tr>\n",
       "    <tr>\n",
       "      <th>max</th>\n",
       "      <td>47846.000000</td>\n",
       "      <td>48456.000000</td>\n",
       "      <td>48116.000000</td>\n",
       "      <td>54243.000000</td>\n",
       "      <td>59226.000000</td>\n",
       "      <td>53852.000000</td>\n",
       "      <td>47564.000000</td>\n",
       "      <td>47395.000000</td>\n",
       "      <td>48330.000000</td>\n",
       "    </tr>\n",
       "  </tbody>\n",
       "</table>\n",
       "</div>"
      ],
      "text/plain": [
       "year           2008          2009          2010          2011          2012  \\\n",
       "count     33.000000     33.000000     33.000000     33.000000     33.000000   \n",
       "mean   22383.060606  21733.757576  21676.484848  21967.121212  22343.303030   \n",
       "std     8472.899684   8456.505277   8640.040332   9415.621198   9974.924813   \n",
       "min        0.000000      0.000000      0.000000     69.000000    157.000000   \n",
       "25%    17656.000000  17713.000000  17130.000000  16686.000000  15990.000000   \n",
       "50%    23330.000000  21858.000000  21941.000000  21994.000000  22647.000000   \n",
       "75%    26273.000000  25182.000000  24818.000000  24980.000000  26784.000000   \n",
       "max    47846.000000  48456.000000  48116.000000  54243.000000  59226.000000   \n",
       "\n",
       "year           2013          2014          2015          2016  \n",
       "count     33.000000     33.000000     33.000000     33.000000  \n",
       "mean   20800.212121  20611.606061  21564.363636  22306.696970  \n",
       "std     9172.160418   8357.962573   8605.496648   8828.228749  \n",
       "min      110.000000    115.000000    151.000000    178.000000  \n",
       "25%    15759.000000  15426.000000  16346.000000  16903.000000  \n",
       "50%    20705.000000  21101.000000  22076.000000  22730.000000  \n",
       "75%    25633.000000  24893.000000  26941.000000  27174.000000  \n",
       "max    53852.000000  47564.000000  47395.000000  48330.000000  "
      ]
     },
     "execution_count": 195,
     "metadata": {},
     "output_type": "execute_result"
    }
   ],
   "source": [
    "drugs_.describe()"
   ]
  },
  {
   "cell_type": "markdown",
   "id": "dbd87854-6eb9-426b-be67-209238c21609",
   "metadata": {},
   "source": [
    "## BoxPlot\n",
    "Question: Bagaimana statstik kasus narkoba di borough Enfield dan Camden 2008-2016?"
   ]
  },
  {
   "cell_type": "code",
   "execution_count": 153,
   "id": "796f1427-71e4-4e6a-91d4-25bd6a8b14bc",
   "metadata": {},
   "outputs": [
    {
     "data": {
      "text/html": [
       "<div>\n",
       "<style scoped>\n",
       "    .dataframe tbody tr th:only-of-type {\n",
       "        vertical-align: middle;\n",
       "    }\n",
       "\n",
       "    .dataframe tbody tr th {\n",
       "        vertical-align: top;\n",
       "    }\n",
       "\n",
       "    .dataframe thead th {\n",
       "        text-align: right;\n",
       "    }\n",
       "</style>\n",
       "<table border=\"1\" class=\"dataframe\">\n",
       "  <thead>\n",
       "    <tr style=\"text-align: right;\">\n",
       "      <th>borough</th>\n",
       "      <th>Enfield</th>\n",
       "      <th>Camden</th>\n",
       "    </tr>\n",
       "    <tr>\n",
       "      <th>year</th>\n",
       "      <th></th>\n",
       "      <th></th>\n",
       "    </tr>\n",
       "  </thead>\n",
       "  <tbody>\n",
       "    <tr>\n",
       "      <th>2008</th>\n",
       "      <td>21980</td>\n",
       "      <td>32010</td>\n",
       "    </tr>\n",
       "    <tr>\n",
       "      <th>2009</th>\n",
       "      <td>21147</td>\n",
       "      <td>31612</td>\n",
       "    </tr>\n",
       "    <tr>\n",
       "      <th>2010</th>\n",
       "      <td>20808</td>\n",
       "      <td>31804</td>\n",
       "    </tr>\n",
       "    <tr>\n",
       "      <th>2011</th>\n",
       "      <td>21041</td>\n",
       "      <td>33956</td>\n",
       "    </tr>\n",
       "    <tr>\n",
       "      <th>2012</th>\n",
       "      <td>21069</td>\n",
       "      <td>31472</td>\n",
       "    </tr>\n",
       "    <tr>\n",
       "      <th>2013</th>\n",
       "      <td>21574</td>\n",
       "      <td>28435</td>\n",
       "    </tr>\n",
       "    <tr>\n",
       "      <th>2014</th>\n",
       "      <td>21700</td>\n",
       "      <td>27198</td>\n",
       "    </tr>\n",
       "    <tr>\n",
       "      <th>2015</th>\n",
       "      <td>22076</td>\n",
       "      <td>29477</td>\n",
       "    </tr>\n",
       "    <tr>\n",
       "      <th>2016</th>\n",
       "      <td>22485</td>\n",
       "      <td>29183</td>\n",
       "    </tr>\n",
       "    <tr>\n",
       "      <th>Total</th>\n",
       "      <td>387760</td>\n",
       "      <td>550294</td>\n",
       "    </tr>\n",
       "  </tbody>\n",
       "</table>\n",
       "</div>"
      ],
      "text/plain": [
       "borough  Enfield  Camden\n",
       "year                    \n",
       "2008       21980   32010\n",
       "2009       21147   31612\n",
       "2010       20808   31804\n",
       "2011       21041   33956\n",
       "2012       21069   31472\n",
       "2013       21574   28435\n",
       "2014       21700   27198\n",
       "2015       22076   29477\n",
       "2016       22485   29183\n",
       "Total     387760  550294"
      ]
     },
     "execution_count": 153,
     "metadata": {},
     "output_type": "execute_result"
    }
   ],
   "source": [
    "drugs_ec"
   ]
  },
  {
   "cell_type": "code",
   "execution_count": 154,
   "id": "7ac259f9-b6d7-419c-8229-75ed4634ed5d",
   "metadata": {},
   "outputs": [
    {
     "data": {
      "text/html": [
       "<div>\n",
       "<style scoped>\n",
       "    .dataframe tbody tr th:only-of-type {\n",
       "        vertical-align: middle;\n",
       "    }\n",
       "\n",
       "    .dataframe tbody tr th {\n",
       "        vertical-align: top;\n",
       "    }\n",
       "\n",
       "    .dataframe thead th {\n",
       "        text-align: right;\n",
       "    }\n",
       "</style>\n",
       "<table border=\"1\" class=\"dataframe\">\n",
       "  <thead>\n",
       "    <tr style=\"text-align: right;\">\n",
       "      <th>borough</th>\n",
       "      <th>Enfield</th>\n",
       "      <th>Camden</th>\n",
       "    </tr>\n",
       "    <tr>\n",
       "      <th>year</th>\n",
       "      <th></th>\n",
       "      <th></th>\n",
       "    </tr>\n",
       "  </thead>\n",
       "  <tbody>\n",
       "    <tr>\n",
       "      <th>2008</th>\n",
       "      <td>21980</td>\n",
       "      <td>32010</td>\n",
       "    </tr>\n",
       "    <tr>\n",
       "      <th>2009</th>\n",
       "      <td>21147</td>\n",
       "      <td>31612</td>\n",
       "    </tr>\n",
       "    <tr>\n",
       "      <th>2010</th>\n",
       "      <td>20808</td>\n",
       "      <td>31804</td>\n",
       "    </tr>\n",
       "    <tr>\n",
       "      <th>2011</th>\n",
       "      <td>21041</td>\n",
       "      <td>33956</td>\n",
       "    </tr>\n",
       "    <tr>\n",
       "      <th>2012</th>\n",
       "      <td>21069</td>\n",
       "      <td>31472</td>\n",
       "    </tr>\n",
       "    <tr>\n",
       "      <th>2013</th>\n",
       "      <td>21574</td>\n",
       "      <td>28435</td>\n",
       "    </tr>\n",
       "    <tr>\n",
       "      <th>2014</th>\n",
       "      <td>21700</td>\n",
       "      <td>27198</td>\n",
       "    </tr>\n",
       "    <tr>\n",
       "      <th>2015</th>\n",
       "      <td>22076</td>\n",
       "      <td>29477</td>\n",
       "    </tr>\n",
       "    <tr>\n",
       "      <th>2016</th>\n",
       "      <td>22485</td>\n",
       "      <td>29183</td>\n",
       "    </tr>\n",
       "  </tbody>\n",
       "</table>\n",
       "</div>"
      ],
      "text/plain": [
       "borough  Enfield  Camden\n",
       "year                    \n",
       "2008       21980   32010\n",
       "2009       21147   31612\n",
       "2010       20808   31804\n",
       "2011       21041   33956\n",
       "2012       21069   31472\n",
       "2013       21574   28435\n",
       "2014       21700   27198\n",
       "2015       22076   29477\n",
       "2016       22485   29183"
      ]
     },
     "execution_count": 154,
     "metadata": {},
     "output_type": "execute_result"
    }
   ],
   "source": [
    "drugs_ec = drugs_ec.drop(drugs_ec.index[-1])\n",
    "drugs_ec"
   ]
  },
  {
   "cell_type": "code",
   "execution_count": 155,
   "id": "408640bb-2df3-4b6f-88a9-ededd960dd66",
   "metadata": {},
   "outputs": [
    {
     "data": {
      "text/html": [
       "<div>\n",
       "<style scoped>\n",
       "    .dataframe tbody tr th:only-of-type {\n",
       "        vertical-align: middle;\n",
       "    }\n",
       "\n",
       "    .dataframe tbody tr th {\n",
       "        vertical-align: top;\n",
       "    }\n",
       "\n",
       "    .dataframe thead th {\n",
       "        text-align: right;\n",
       "    }\n",
       "</style>\n",
       "<table border=\"1\" class=\"dataframe\">\n",
       "  <thead>\n",
       "    <tr style=\"text-align: right;\">\n",
       "      <th>borough</th>\n",
       "      <th>Enfield</th>\n",
       "      <th>Camden</th>\n",
       "    </tr>\n",
       "  </thead>\n",
       "  <tbody>\n",
       "    <tr>\n",
       "      <th>count</th>\n",
       "      <td>9.000000</td>\n",
       "      <td>9.000000</td>\n",
       "    </tr>\n",
       "    <tr>\n",
       "      <th>mean</th>\n",
       "      <td>21542.222222</td>\n",
       "      <td>30571.888889</td>\n",
       "    </tr>\n",
       "    <tr>\n",
       "      <th>std</th>\n",
       "      <td>565.878471</td>\n",
       "      <td>2121.547633</td>\n",
       "    </tr>\n",
       "    <tr>\n",
       "      <th>min</th>\n",
       "      <td>20808.000000</td>\n",
       "      <td>27198.000000</td>\n",
       "    </tr>\n",
       "    <tr>\n",
       "      <th>25%</th>\n",
       "      <td>21069.000000</td>\n",
       "      <td>29183.000000</td>\n",
       "    </tr>\n",
       "    <tr>\n",
       "      <th>50%</th>\n",
       "      <td>21574.000000</td>\n",
       "      <td>31472.000000</td>\n",
       "    </tr>\n",
       "    <tr>\n",
       "      <th>75%</th>\n",
       "      <td>21980.000000</td>\n",
       "      <td>31804.000000</td>\n",
       "    </tr>\n",
       "    <tr>\n",
       "      <th>max</th>\n",
       "      <td>22485.000000</td>\n",
       "      <td>33956.000000</td>\n",
       "    </tr>\n",
       "  </tbody>\n",
       "</table>\n",
       "</div>"
      ],
      "text/plain": [
       "borough       Enfield        Camden\n",
       "count        9.000000      9.000000\n",
       "mean     21542.222222  30571.888889\n",
       "std        565.878471   2121.547633\n",
       "min      20808.000000  27198.000000\n",
       "25%      21069.000000  29183.000000\n",
       "50%      21574.000000  31472.000000\n",
       "75%      21980.000000  31804.000000\n",
       "max      22485.000000  33956.000000"
      ]
     },
     "execution_count": 155,
     "metadata": {},
     "output_type": "execute_result"
    }
   ],
   "source": [
    "drugs_ec.describe()"
   ]
  },
  {
   "cell_type": "code",
   "execution_count": 156,
   "id": "32ae51d7-2abc-4220-a0ad-e59c87eff08b",
   "metadata": {},
   "outputs": [
    {
     "data": {
      "text/plain": [
       "Text(0, 0.5, 'Total cases')"
      ]
     },
     "execution_count": 156,
     "metadata": {},
     "output_type": "execute_result"
    },
    {
     "data": {
      "image/png": "[encoded data removed]",
      "text/plain": [
       "<Figure size 504x360 with 1 Axes>"
      ]
     },
     "metadata": {
      "needs_background": "light"
     },
     "output_type": "display_data"
    }
   ],
   "source": [
    "drugs_ec.plot(kind=\"box\", figsize=(7,5))\n",
    "plt.title('Drugs Crime Cases 2008-2016')\n",
    "plt.ylabel('Total cases')"
   ]
  },
  {
   "cell_type": "markdown",
   "id": "0dd4efd2-84c1-43d7-bbdf-5779ef4d50d1",
   "metadata": {},
   "source": [
    "Insight: Kasus narkoba di Enfield jauh lebih sedikit daripada kasus di Camden, dan sebaran kasus di Camden selama 9 tahun cukup variatif, sedangkan kasus di Enfield tidak jauh berbeda di setiap tahunnya."
   ]
  },
  {
   "cell_type": "markdown",
   "id": "e20193aa-7fa6-40e1-8eee-32beb2b1ae7d",
   "metadata": {},
   "source": [
    "## Scatter Plot\n",
    "Question: Bagaimana sebaran jumlah kasus narkoba di seluruh borough pada tahun 2010 dan 2011?"
   ]
  },
  {
   "cell_type": "code",
   "execution_count": 246,
   "id": "29e6da1b-ba38-43db-99a0-d42f535db0e6",
   "metadata": {},
   "outputs": [
    {
     "data": {
      "text/plain": [
       "Text(0.5, 1.0, 'Kasus narkoba di Inggris 2010-2011')"
      ]
     },
     "execution_count": 246,
     "metadata": {},
     "output_type": "execute_result"
    },
    {
     "data": {
      "image/png": "[encoded data removed]",
      "text/plain": [
       "<Figure size 432x288 with 1 Axes>"
      ]
     },
     "metadata": {
      "needs_background": "light"
     },
     "output_type": "display_data"
    }
   ],
   "source": [
    "drugs_.plot(kind=\"scatter\", x=2010, y=2011)\n",
    "\n",
    "plt.title('Kasus narkoba di Inggris 2010-2011')"
   ]
  },
  {
   "cell_type": "markdown",
   "id": "3c6d7be5-140b-45c2-8a1d-649704c4519e",
   "metadata": {},
   "source": [
    "Insight: sebaran kasus narkoba antara tahun 2010 dan 2011 memiliki jumlah yang hampir mirip, sehingga dapat dikatakan bahwa tidak ada perubahan berarti dalam kasus narkoba dalam kurun waktu tersebut"
   ]
  },
  {
   "cell_type": "markdown",
   "id": "dc6ea22a-83ce-4f7f-b76b-5d086d48428f",
   "metadata": {},
   "source": [
    "## Wordcloud\n",
    "Question: Kasus kriminal besar apa yang paling menonjol di borough Westminster?"
   ]
  },
  {
   "cell_type": "code",
   "execution_count": 159,
   "id": "ca86e56e-cfb1-4da6-9a73-da5bf47910be",
   "metadata": {},
   "outputs": [
    {
     "name": "stdout",
     "output_type": "stream",
     "text": [
      "Collecting wordcloud\n",
      "  Downloading wordcloud-1.8.1-cp38-cp38-win_amd64.whl (155 kB)\n",
      "Requirement already satisfied: numpy>=1.6.1 in e:\\programdata\\anaconda3\\lib\\site-packages (from wordcloud) (1.20.1)\n",
      "Requirement already satisfied: matplotlib in e:\\programdata\\anaconda3\\lib\\site-packages (from wordcloud) (3.3.4)\n",
      "Requirement already satisfied: pillow in e:\\programdata\\anaconda3\\lib\\site-packages (from wordcloud) (8.2.0)\n",
      "Requirement already satisfied: cycler>=0.10 in e:\\programdata\\anaconda3\\lib\\site-packages (from matplotlib->wordcloud) (0.10.0)\n",
      "Requirement already satisfied: python-dateutil>=2.1 in e:\\programdata\\anaconda3\\lib\\site-packages (from matplotlib->wordcloud) (2.8.1)\n",
      "Requirement already satisfied: kiwisolver>=1.0.1 in e:\\programdata\\anaconda3\\lib\\site-packages (from matplotlib->wordcloud) (1.3.1)\n",
      "Requirement already satisfied: pyparsing!=2.0.4,!=2.1.2,!=2.1.6,>=2.0.3 in e:\\programdata\\anaconda3\\lib\\site-packages (from matplotlib->wordcloud) (2.4.7)\n",
      "Requirement already satisfied: six in e:\\programdata\\anaconda3\\lib\\site-packages (from cycler>=0.10->matplotlib->wordcloud) (1.15.0)\n",
      "Installing collected packages: wordcloud\n",
      "Successfully installed wordcloud-1.8.1\n",
      "Wordcloud is installed and imported!\n"
     ]
    }
   ],
   "source": [
    "!pip install wordcloud\n",
    "\n",
    "from wordcloud import WordCloud, STOPWORDS\n",
    "\n",
    "print ('Wordcloud is installed and imported!')"
   ]
  },
  {
   "cell_type": "code",
   "execution_count": 195,
   "id": "0ba4d8c2-1c57-4031-bd6b-44a730453c21",
   "metadata": {},
   "outputs": [],
   "source": [
    "stopwords = set(STOPWORDS)"
   ]
  },
  {
   "cell_type": "code",
   "execution_count": 194,
   "id": "7def3615-7384-4cac-ae56-300216bde81d",
   "metadata": {},
   "outputs": [],
   "source": [
    "wc_crimes = df[(df['year']) & (df['borough'] == 'Westminster')]['major_category'].str.cat(sep=' ')"
   ]
  },
  {
   "cell_type": "code",
   "execution_count": 213,
   "id": "8bee179f-2f33-4228-916c-5a8e6a4a77a6",
   "metadata": {},
   "outputs": [
    {
     "data": {
      "image/png": "[encoded data removed]",
      "text/plain": [
       "<Figure size 1008x1296 with 1 Axes>"
      ]
     },
     "metadata": {
      "needs_background": "light"
     },
     "output_type": "display_data"
    }
   ],
   "source": [
    "crimes_wordcloud = WordCloud(\n",
    "    background_color='white',\n",
    "    max_words=2000,\n",
    "    stopwords=stopwords\n",
    ")\n",
    "\n",
    "# generate the word cloud\n",
    "crimes_wordcloud.generate(wc_crimes)\n",
    "\n",
    "fig = plt.figure()\n",
    "fig.set_figwidth(14)\n",
    "fig.set_figheight(18)\n",
    "plt.imshow(crimes_wordcloud, interpolation='bilinear')\n",
    "plt.axis('off')\n",
    "plt.show()"
   ]
  },
  {
   "cell_type": "markdown",
   "id": "b74f14ce-04c5-4a61-b69b-a2c3512a42be",
   "metadata": {},
   "source": [
    "Insight: kasus kriminal perusakan merupakan kasus yang paling banyak terjadi, diikuti oleh pencurian dan kekerasan."
   ]
  },
  {
   "cell_type": "markdown",
   "id": "c40842ee-de24-4e57-976b-139ae50ce757",
   "metadata": {},
   "source": [
    "## Folium\n",
    "Task: London folium map"
   ]
  },
  {
   "cell_type": "code",
   "execution_count": 182,
   "id": "981ca3fc-ca48-4905-82e7-2ba2e618b886",
   "metadata": {},
   "outputs": [
    {
     "name": "stdout",
     "output_type": "stream",
     "text": [
      "Collecting folium\n",
      "  Downloading folium-0.12.1-py2.py3-none-any.whl (94 kB)\n",
      "Collecting branca>=0.3.0\n",
      "  Downloading branca-0.4.2-py3-none-any.whl (24 kB)\n",
      "Requirement already satisfied: requests in e:\\programdata\\anaconda3\\lib\\site-packages (from folium) (2.25.1)\n",
      "Requirement already satisfied: jinja2>=2.9 in e:\\programdata\\anaconda3\\lib\\site-packages (from folium) (2.11.3)\n",
      "Requirement already satisfied: numpy in e:\\programdata\\anaconda3\\lib\\site-packages (from folium) (1.20.1)\n",
      "Requirement already satisfied: MarkupSafe>=0.23 in e:\\programdata\\anaconda3\\lib\\site-packages (from jinja2>=2.9->folium) (1.1.1)\n",
      "Requirement already satisfied: idna<3,>=2.5 in e:\\programdata\\anaconda3\\lib\\site-packages (from requests->folium) (2.10)\n",
      "Requirement already satisfied: urllib3<1.27,>=1.21.1 in e:\\programdata\\anaconda3\\lib\\site-packages (from requests->folium) (1.26.4)\n",
      "Requirement already satisfied: certifi>=2017.4.17 in e:\\programdata\\anaconda3\\lib\\site-packages (from requests->folium) (2020.12.5)\n",
      "Requirement already satisfied: chardet<5,>=3.0.2 in e:\\programdata\\anaconda3\\lib\\site-packages (from requests->folium) (4.0.0)\n",
      "Installing collected packages: branca, folium\n",
      "Successfully installed branca-0.4.2 folium-0.12.1\n",
      "Folium installed and imported\n"
     ]
    }
   ],
   "source": [
    "!pip install folium\n",
    "import folium\n",
    "\n",
    "print('Folium installed and imported')"
   ]
  },
  {
   "cell_type": "code",
   "execution_count": 191,
   "id": "1f4ce94b-ddfd-473b-9bfa-1dc2d0d263a1",
   "metadata": {},
   "outputs": [],
   "source": [
    "latitude = 51.5287718\n",
    "longitude = -0.2416804"
   ]
  },
  {
   "cell_type": "code",
   "execution_count": 193,
   "id": "800ba209-3995-44f8-b571-be009f4f489a",
   "metadata": {},
   "outputs": [
    {
     "data": {
      "text/html": [
       "<div style=\"width:100%;\"><div style=\"position:relative;width:100%;height:0;padding-bottom:60%;\"><span style=\"color:#565656\">Make this Notebook Trusted to load map: File -> Trust Notebook</span><iframe src=\"about:blank\" style=\"position:absolute;width:100%;height:100%;left:0;top:0;border:none !important;\" data-html=%3C%21DOCTYPE%20html%3E%0A%3Chead%3E%20%20%20%20%0A%20%20%20%20%3Cmeta%20http-equiv%3D%22content-type%22%20content%3D%22text/html%3B%20charset%3DUTF-8%22%20/%3E%0A%20%20%20%20%0A%20%20%20%20%20%20%20%20%3Cscript%3E%0A%20%20%20%20%20%20%20%20%20%20%20%20L_NO_TOUCH%20%3D%20false%3B%0A%20%20%20%20%20%20%20%20%20%20%20%20L_DISABLE_3D%20%3D%20false%3B%0A%20%20%20%20%20%20%20%20%3C/script%3E%0A%20%20%20%20%0A%20%20%20%20%3Cstyle%3Ehtml%2C%20body%20%7Bwidth%3A%20100%25%3Bheight%3A%20100%25%3Bmargin%3A%200%3Bpadding%3A%200%3B%7D%3C/style%3E%0A%20%20%20%20%3Cstyle%3E%23map%20%7Bposition%3Aabsolute%3Btop%3A0%3Bbottom%3A0%3Bright%3A0%3Bleft%3A0%3B%7D%3C/style%3E%0A%20%20%20%20%3Cscript%20src%3D%22https%3A//cdn.jsdelivr.net/npm/leaflet%401.6.0/dist/leaflet.js%22%3E%3C/script%3E%0A%20%20%20%20%3Cscript%20src%3D%22https%3A//code.jquery.com/jquery-1.12.4.min.js%22%3E%3C/script%3E%0A%20%20%20%20%3Cscript%20src%3D%22https%3A//maxcdn.bootstrapcdn.com/bootstrap/3.2.0/js/bootstrap.min.js%22%3E%3C/script%3E%0A%20%20%20%20%3Cscript%20src%3D%22https%3A//cdnjs.cloudflare.com/ajax/libs/Leaflet.awesome-markers/2.0.2/leaflet.awesome-markers.js%22%3E%3C/script%3E%0A%20%20%20%20%3Clink%20rel%3D%22stylesheet%22%20href%3D%22https%3A//cdn.jsdelivr.net/npm/leaflet%401.6.0/dist/leaflet.css%22/%3E%0A%20%20%20%20%3Clink%20rel%3D%22stylesheet%22%20href%3D%22https%3A//maxcdn.bootstrapcdn.com/bootstrap/3.2.0/css/bootstrap.min.css%22/%3E%0A%20%20%20%20%3Clink%20rel%3D%22stylesheet%22%20href%3D%22https%3A//maxcdn.bootstrapcdn.com/bootstrap/3.2.0/css/bootstrap-theme.min.css%22/%3E%0A%20%20%20%20%3Clink%20rel%3D%22stylesheet%22%20href%3D%22https%3A//maxcdn.bootstrapcdn.com/font-awesome/4.6.3/css/font-awesome.min.css%22/%3E%0A%20%20%20%20%3Clink%20rel%3D%22stylesheet%22%20href%3D%22https%3A//cdnjs.cloudflare.com/ajax/libs/Leaflet.awesome-markers/2.0.2/leaflet.awesome-markers.css%22/%3E%0A%20%20%20%20%3Clink%20rel%3D%22stylesheet%22%20href%3D%22https%3A//cdn.jsdelivr.net/gh/python-visualization/folium/folium/templates/leaflet.awesome.rotate.min.css%22/%3E%0A%20%20%20%20%0A%20%20%20%20%20%20%20%20%20%20%20%20%3Cmeta%20name%3D%22viewport%22%20content%3D%22width%3Ddevice-width%2C%0A%20%20%20%20%20%20%20%20%20%20%20%20%20%20%20%20initial-scale%3D1.0%2C%20maximum-scale%3D1.0%2C%20user-scalable%3Dno%22%20/%3E%0A%20%20%20%20%20%20%20%20%20%20%20%20%3Cstyle%3E%0A%20%20%20%20%20%20%20%20%20%20%20%20%20%20%20%20%23map_964d6b9b9df64edaa59b65e3f3d121ea%20%7B%0A%20%20%20%20%20%20%20%20%20%20%20%20%20%20%20%20%20%20%20%20position%3A%20relative%3B%0A%20%20%20%20%20%20%20%20%20%20%20%20%20%20%20%20%20%20%20%20width%3A%20100.0%25%3B%0A%20%20%20%20%20%20%20%20%20%20%20%20%20%20%20%20%20%20%20%20height%3A%20100.0%25%3B%0A%20%20%20%20%20%20%20%20%20%20%20%20%20%20%20%20%20%20%20%20left%3A%200.0%25%3B%0A%20%20%20%20%20%20%20%20%20%20%20%20%20%20%20%20%20%20%20%20top%3A%200.0%25%3B%0A%20%20%20%20%20%20%20%20%20%20%20%20%20%20%20%20%7D%0A%20%20%20%20%20%20%20%20%20%20%20%20%3C/style%3E%0A%20%20%20%20%20%20%20%20%0A%3C/head%3E%0A%3Cbody%3E%20%20%20%20%0A%20%20%20%20%0A%20%20%20%20%20%20%20%20%20%20%20%20%3Cdiv%20class%3D%22folium-map%22%20id%3D%22map_964d6b9b9df64edaa59b65e3f3d121ea%22%20%3E%3C/div%3E%0A%20%20%20%20%20%20%20%20%0A%3C/body%3E%0A%3Cscript%3E%20%20%20%20%0A%20%20%20%20%0A%20%20%20%20%20%20%20%20%20%20%20%20var%20map_964d6b9b9df64edaa59b65e3f3d121ea%20%3D%20L.map%28%0A%20%20%20%20%20%20%20%20%20%20%20%20%20%20%20%20%22map_964d6b9b9df64edaa59b65e3f3d121ea%22%2C%0A%20%20%20%20%20%20%20%20%20%20%20%20%20%20%20%20%7B%0A%20%20%20%20%20%20%20%20%20%20%20%20%20%20%20%20%20%20%20%20center%3A%20%5B51.5287718%2C%20-0.2416804%5D%2C%0A%20%20%20%20%20%20%20%20%20%20%20%20%20%20%20%20%20%20%20%20crs%3A%20L.CRS.EPSG3857%2C%0A%20%20%20%20%20%20%20%20%20%20%20%20%20%20%20%20%20%20%20%20zoom%3A%2010%2C%0A%20%20%20%20%20%20%20%20%20%20%20%20%20%20%20%20%20%20%20%20zoomControl%3A%20true%2C%0A%20%20%20%20%20%20%20%20%20%20%20%20%20%20%20%20%20%20%20%20preferCanvas%3A%20false%2C%0A%20%20%20%20%20%20%20%20%20%20%20%20%20%20%20%20%7D%0A%20%20%20%20%20%20%20%20%20%20%20%20%29%3B%0A%0A%20%20%20%20%20%20%20%20%20%20%20%20%0A%0A%20%20%20%20%20%20%20%20%0A%20%20%20%20%0A%20%20%20%20%20%20%20%20%20%20%20%20var%20tile_layer_1abdeeb2a1c2427e812ffff48ee965b4%20%3D%20L.tileLayer%28%0A%20%20%20%20%20%20%20%20%20%20%20%20%20%20%20%20%22https%3A//%7Bs%7D.tile.openstreetmap.org/%7Bz%7D/%7Bx%7D/%7By%7D.png%22%2C%0A%20%20%20%20%20%20%20%20%20%20%20%20%20%20%20%20%7B%22attribution%22%3A%20%22Data%20by%20%5Cu0026copy%3B%20%5Cu003ca%20href%3D%5C%22http%3A//openstreetmap.org%5C%22%5Cu003eOpenStreetMap%5Cu003c/a%5Cu003e%2C%20under%20%5Cu003ca%20href%3D%5C%22http%3A//www.openstreetmap.org/copyright%5C%22%5Cu003eODbL%5Cu003c/a%5Cu003e.%22%2C%20%22detectRetina%22%3A%20false%2C%20%22maxNativeZoom%22%3A%2018%2C%20%22maxZoom%22%3A%2018%2C%20%22minZoom%22%3A%200%2C%20%22noWrap%22%3A%20false%2C%20%22opacity%22%3A%201%2C%20%22subdomains%22%3A%20%22abc%22%2C%20%22tms%22%3A%20false%7D%0A%20%20%20%20%20%20%20%20%20%20%20%20%29.addTo%28map_964d6b9b9df64edaa59b65e3f3d121ea%29%3B%0A%20%20%20%20%20%20%20%20%0A%3C/script%3E onload=\"this.contentDocument.open();this.contentDocument.write(    decodeURIComponent(this.getAttribute('data-html')));this.contentDocument.close();\" allowfullscreen webkitallowfullscreen mozallowfullscreen></iframe></div></div>"
      ],
      "text/plain": [
       "<folium.folium.Map at 0x1e50203a4c0>"
      ]
     },
     "execution_count": 193,
     "metadata": {},
     "output_type": "execute_result"
    }
   ],
   "source": [
    "london_map = folium.Map(location=[latitude, longitude], zoom_start=10)\n",
    "\n",
    "london_map"
   ]
  },
  {
   "cell_type": "code",
   "execution_count": null,
   "id": "537447bb-6286-4f4c-b9c3-eab2ea56814b",
   "metadata": {},
   "outputs": [],
   "source": []
  }
 ],
 "metadata": {
  "kernelspec": {
   "display_name": "Python 3",
   "language": "python",
   "name": "python3"
  },
  "language_info": {
   "codemirror_mode": {
    "name": "ipython",
    "version": 3
   },
   "file_extension": ".py",
   "mimetype": "text/x-python",
   "name": "python",
   "nbconvert_exporter": "python",
   "pygments_lexer": "ipython3",
   "version": "3.8.8"
  }
 },
 "nbformat": 4,
 "nbformat_minor": 5
}
