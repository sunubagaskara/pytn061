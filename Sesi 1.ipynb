{
 "cells": [
  {
   "cell_type": "code",
   "execution_count": 1,
   "id": "b42980f0-7bdd-4fb9-8261-3070665d6902",
   "metadata": {},
   "outputs": [
    {
     "name": "stdout",
     "output_type": "stream",
     "text": [
      "1341234\n"
     ]
    }
   ],
   "source": [
    "print(1341234)"
   ]
  },
  {
   "cell_type": "code",
   "execution_count": 2,
   "id": "2daa1c50-6f74-42b0-a3b7-6a9fc6dd3913",
   "metadata": {},
   "outputs": [
    {
     "name": "stdout",
     "output_type": "stream",
     "text": [
      "<class 'int'>\n"
     ]
    }
   ],
   "source": [
    "print(type(3423423))"
   ]
  },
  {
   "cell_type": "code",
   "execution_count": 4,
   "id": "7783cc70-0082-4e2f-93fa-1f9e900c8cd2",
   "metadata": {},
   "outputs": [
    {
     "name": "stdout",
     "output_type": "stream",
     "text": [
      "12.3\n",
      "<class 'float'>\n"
     ]
    }
   ],
   "source": [
    "print(12.3)\n",
    "print(type(12.3))"
   ]
  },
  {
   "cell_type": "code",
   "execution_count": 6,
   "id": "26a1a612-f0d6-4a56-ad89-a09aaa9483ad",
   "metadata": {},
   "outputs": [
    {
     "name": "stdout",
     "output_type": "stream",
     "text": [
      "0.00125\n",
      "<class 'float'>\n"
     ]
    }
   ],
   "source": [
    "print(12.5e-4)\n",
    "print(type(12.5e-4))"
   ]
  },
  {
   "cell_type": "code",
   "execution_count": 8,
   "id": "14b23a3c-1257-451d-8339-60c779813046",
   "metadata": {},
   "outputs": [
    {
     "name": "stdout",
     "output_type": "stream",
     "text": [
      "hallo\n",
      "<class 'str'>\n"
     ]
    }
   ],
   "source": [
    "print(\"hallo\")\n",
    "print(type(\"hello\"))"
   ]
  },
  {
   "cell_type": "code",
   "execution_count": 9,
   "id": "7f0b8f7d-f845-47a4-aa43-daae8f5f0330",
   "metadata": {},
   "outputs": [
    {
     "name": "stdout",
     "output_type": "stream",
     "text": [
      "<class 'bool'>\n"
     ]
    }
   ],
   "source": [
    "print(type(True))"
   ]
  },
  {
   "cell_type": "code",
   "execution_count": null,
   "id": "7b80009f-e62c-4d1f-b846-376bce169457",
   "metadata": {},
   "outputs": [],
   "source": []
  }
 ],
 "metadata": {
  "kernelspec": {
   "display_name": "Python 3",
   "language": "python",
   "name": "python3"
  },
  "language_info": {
   "codemirror_mode": {
    "name": "ipython",
    "version": 3
   },
   "file_extension": ".py",
   "mimetype": "text/x-python",
   "name": "python",
   "nbconvert_exporter": "python",
   "pygments_lexer": "ipython3",
   "version": "3.8.8"
  }
 },
 "nbformat": 4,
 "nbformat_minor": 5
}
